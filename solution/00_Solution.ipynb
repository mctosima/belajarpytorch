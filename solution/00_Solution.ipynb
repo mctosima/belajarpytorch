{
 "cells": [
  {
   "cell_type": "code",
   "execution_count": 2,
   "metadata": {},
   "outputs": [],
   "source": [
    "import torch"
   ]
  },
  {
   "cell_type": "markdown",
   "metadata": {},
   "source": [
    "1. Buatlah sebuah tensor bernama `tensor_x` dengan menggunakan fungsi `torch.rand()` dengan ukuran 3x3. Kemudian cetak nilai dari `tensor_x` beserta tipe datanya dan dimensinya."
   ]
  },
  {
   "cell_type": "code",
   "execution_count": 3,
   "metadata": {},
   "outputs": [
    {
     "name": "stdout",
     "output_type": "stream",
     "text": [
      "tensor([[0.0201, 0.4264, 0.7492],\n",
      "        [0.2020, 0.3506, 0.1824],\n",
      "        [0.4521, 0.2444, 0.1383]])\n",
      "torch.float32\n",
      "torch.Size([3, 3])\n"
     ]
    }
   ],
   "source": [
    "tensor_x = torch.rand(3, 3)\n",
    "print(tensor_x)\n",
    "print(tensor_x.dtype)\n",
    "print(tensor_x.shape)"
   ]
  },
  {
   "cell_type": "markdown",
   "metadata": {},
   "source": [
    "2. Buatlah sebuah tensor bernama `tensor_y` dengan menggunakan fungsi `torch.rand()` dengan ukuran 3x3. Kemudian cetak nilai dari `tensor_y` beserta nilai maksimum dan minimumnya."
   ]
  },
  {
   "cell_type": "code",
   "execution_count": 4,
   "metadata": {},
   "outputs": [
    {
     "name": "stdout",
     "output_type": "stream",
     "text": [
      "tensor([[0.5056, 0.3593, 0.8648],\n",
      "        [0.8778, 0.9136, 0.9581],\n",
      "        [0.6010, 0.3264, 0.2716]])\n",
      "Max: 0.9581194519996643\n",
      "Min: 0.27160149812698364\n"
     ]
    }
   ],
   "source": [
    "tensor_y = torch.rand(3, 3)\n",
    "print(tensor_y)\n",
    "print(f\"Max: {tensor_y.max()}\")\n",
    "print(f\"Min: {tensor_y.min()}\")"
   ]
  },
  {
   "cell_type": "markdown",
   "metadata": {},
   "source": [
    "3. Lakukanlah operasi penjumlahan dan pengurangan antara `tensor_x` dan `tensor_y`. Simpan hasilnya pada variabel `tensor_sum` dan `tensor_sub`."
   ]
  },
  {
   "cell_type": "code",
   "execution_count": 5,
   "metadata": {},
   "outputs": [
    {
     "name": "stdout",
     "output_type": "stream",
     "text": [
      "tensor([[0.5257, 0.7857, 1.6140],\n",
      "        [1.0798, 1.2642, 1.1405],\n",
      "        [1.0531, 0.5707, 0.4099]])\n",
      "tensor([[-0.4855,  0.0671, -0.1157],\n",
      "        [-0.6758, -0.5630, -0.7757],\n",
      "        [-0.1489, -0.0820, -0.1333]])\n"
     ]
    }
   ],
   "source": [
    "tensor_sum = tensor_x + tensor_y\n",
    "print(tensor_sum)\n",
    "tensor_sub = tensor_x - tensor_y\n",
    "print(tensor_sub)"
   ]
  },
  {
   "cell_type": "markdown",
   "metadata": {},
   "source": [
    "4. Lakukan operasi perkalian matrix antara `tensor_x` dan `tensor_y`. Simpan hasilnya pada variabel `tensor_mul`. Lalu lakukan operasi transpose pada `tensor_mul`. Simpan hasilnya pada variabel `tensor_transpose`."
   ]
  },
  {
   "cell_type": "code",
   "execution_count": 6,
   "metadata": {},
   "outputs": [
    {
     "name": "stdout",
     "output_type": "stream",
     "text": [
      "tensor([[0.8347, 0.6413, 0.6294],\n",
      "        [0.5196, 0.4525, 0.5602],\n",
      "        [0.5262, 0.4308, 0.6627]])\n"
     ]
    }
   ],
   "source": [
    "tensor_mul = torch.matmul(tensor_x, tensor_y)\n",
    "\n",
    "# atau\n",
    "\n",
    "tensor_mul = tensor_x @ tensor_y\n",
    "print(tensor_mul)\n",
    "\n",
    "tensor_transpose = tensor_mul.t()\n",
    "print(tensor_transpose)"
   ]
  },
  {
   "cell_type": "markdown",
   "metadata": {},
   "source": [
    "5. Ubah dimensi dari `tensor_transpose` menjadi 1x9 menggunakan reshape. Simpan hasilnya pada variabel `tensor_reshape`."
   ]
  },
  {
   "cell_type": "code",
   "execution_count": 8,
   "metadata": {},
   "outputs": [
    {
     "name": "stdout",
     "output_type": "stream",
     "text": [
      "tensor([[0.8347, 0.5196, 0.5262, 0.6413, 0.4525, 0.4308, 0.6294, 0.5602, 0.6627]])\n"
     ]
    }
   ],
   "source": [
    "tensor_reshape = tensor_transpose.reshape(1, 9)\n",
    "print(tensor_reshape)"
   ]
  },
  {
   "cell_type": "markdown",
   "metadata": {},
   "source": [
    "6. Buat sebuah tensor random dengan random seed 42 bernama `tensor_random` dengan ukuran 3x3. Kemudian cetak nilai dari `tensor_random` beserta nilai maksimum dan minimumnya."
   ]
  },
  {
   "cell_type": "code",
   "execution_count": 9,
   "metadata": {},
   "outputs": [
    {
     "name": "stdout",
     "output_type": "stream",
     "text": [
      "tensor([[0.8823, 0.9150, 0.3829],\n",
      "        [0.9593, 0.3904, 0.6009],\n",
      "        [0.2566, 0.7936, 0.9408]])\n"
     ]
    }
   ],
   "source": [
    "torch.manual_seed(42)\n",
    "tensor_random = torch.rand(3, 3)\n",
    "print(tensor_random)"
   ]
  },
  {
   "cell_type": "markdown",
   "metadata": {},
   "source": [
    "7. Pindahkan `tensor_random` ke device GPU. Simpan hasilnya pada variabel `tensor_gpu`. Abaikan bagian ini jika anda tidak memiliki GPU"
   ]
  },
  {
   "cell_type": "code",
   "execution_count": 10,
   "metadata": {},
   "outputs": [],
   "source": [
    "# move to gpu\n",
    "if torch.cuda.is_available():\n",
    "    device = torch.device(\"cuda\")\n",
    "    \n",
    "tensor_random = tensor_random.to(device)"
   ]
  }
 ],
 "metadata": {
  "kernelspec": {
   "display_name": "Python 3.10.6 64-bit",
   "language": "python",
   "name": "python3"
  },
  "language_info": {
   "codemirror_mode": {
    "name": "ipython",
    "version": 3
   },
   "file_extension": ".py",
   "mimetype": "text/x-python",
   "name": "python",
   "nbconvert_exporter": "python",
   "pygments_lexer": "ipython3",
   "version": "3.10.6"
  },
  "orig_nbformat": 4,
  "vscode": {
   "interpreter": {
    "hash": "916dbcbb3f70747c44a77c7bcd40155683ae19c65e1c03b4aa3499c5328201f1"
   }
  }
 },
 "nbformat": 4,
 "nbformat_minor": 2
}
