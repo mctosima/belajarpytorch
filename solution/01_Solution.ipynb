{
 "cells": [
  {
   "cell_type": "markdown",
   "metadata": {},
   "source": [
    "# Latihan Modul 01\n",
    "\n",
    "## Pertanyaan 1\n",
    "Buatlah sebuah data masukan berupa variabel x1, x2, dan x3, masing-masing sebanyak 100 elemen. Data tersebut berupa nilai integer 1 atau 0."
   ]
  },
  {
   "cell_type": "code",
   "execution_count": 11,
   "metadata": {},
   "outputs": [],
   "source": [
    "import torch\n",
    "import torch.nn as nn"
   ]
  },
  {
   "cell_type": "code",
   "execution_count": 12,
   "metadata": {},
   "outputs": [
    {
     "name": "stdout",
     "output_type": "stream",
     "text": [
      "x1:\n",
      "tensor([1, 0, 0, 0, 0, 0, 0, 0, 1, 1, 0, 0, 0, 0, 0, 1, 0, 0, 0, 0, 0, 1, 0, 1,\n",
      "        0, 0, 0, 0, 0, 1, 0, 0, 1, 0, 1, 1, 0, 0, 0, 0, 1, 1, 1, 0, 0, 0, 1, 0,\n",
      "        0, 1, 0, 0, 1, 0, 1, 0, 0, 1, 1, 1, 0, 1, 0, 0, 1, 0, 0, 1, 0, 0, 1, 0,\n",
      "        0, 0, 0, 0, 1, 0, 0, 1, 0, 1, 1, 1, 1, 1, 1, 1, 1, 1, 0, 1, 0, 1, 0, 0,\n",
      "        0, 0, 1, 1])\n",
      "x2:\n",
      "tensor([0, 1, 1, 0, 0, 0, 0, 1, 1, 1, 1, 0, 0, 1, 1, 1, 1, 0, 1, 0, 0, 0, 1, 0,\n",
      "        1, 0, 1, 0, 1, 0, 1, 1, 1, 1, 0, 0, 0, 0, 0, 1, 0, 1, 1, 1, 1, 1, 0, 0,\n",
      "        0, 0, 1, 1, 1, 1, 1, 0, 0, 1, 1, 0, 1, 0, 1, 0, 0, 0, 1, 1, 1, 1, 1, 1,\n",
      "        1, 1, 0, 0, 0, 0, 0, 1, 0, 0, 1, 1, 0, 0, 1, 0, 1, 0, 1, 0, 1, 1, 0, 1,\n",
      "        1, 0, 1, 0])\n",
      "x3:\n",
      "tensor([0, 1, 1, 0, 0, 1, 0, 0, 0, 0, 1, 0, 0, 1, 1, 0, 0, 1, 1, 1, 1, 1, 0, 0,\n",
      "        0, 1, 0, 0, 0, 1, 1, 1, 1, 0, 0, 0, 1, 1, 0, 0, 0, 1, 0, 1, 0, 1, 0, 1,\n",
      "        1, 0, 0, 0, 0, 1, 1, 1, 1, 1, 1, 1, 1, 0, 0, 0, 0, 1, 0, 0, 1, 1, 0, 0,\n",
      "        0, 1, 0, 0, 0, 1, 1, 0, 1, 0, 1, 1, 0, 1, 1, 0, 0, 0, 0, 1, 1, 0, 0, 1,\n",
      "        1, 0, 0, 0])\n"
     ]
    }
   ],
   "source": [
    "x1 = torch.randint(0, 2, (100,))\n",
    "x2 = torch.randint(0, 2, (100,))\n",
    "x3 = torch.randint(0, 2, (100,))\n",
    "\n",
    "# print x1, x2, x3\n",
    "print(f\"x1:\\n{x1}\")\n",
    "print(f\"x2:\\n{x2}\")\n",
    "print(f\"x3:\\n{x3}\")"
   ]
  },
  {
   "cell_type": "markdown",
   "metadata": {},
   "source": [
    "## Pertanyaan 2\n",
    "\n",
    "Gabungkanlah data masukan dari x1, x2, dan x3 menggunakan fungsi `torch.stack()`. Ubahlah x menjadi tipe data float"
   ]
  },
  {
   "cell_type": "code",
   "execution_count": 13,
   "metadata": {},
   "outputs": [
    {
     "name": "stdout",
     "output_type": "stream",
     "text": [
      "x:\n",
      "tensor([[1., 0., 0.],\n",
      "        [0., 1., 1.],\n",
      "        [0., 1., 1.],\n",
      "        [0., 0., 0.],\n",
      "        [0., 0., 0.],\n",
      "        [0., 0., 1.],\n",
      "        [0., 0., 0.],\n",
      "        [0., 1., 0.],\n",
      "        [1., 1., 0.],\n",
      "        [1., 1., 0.],\n",
      "        [0., 1., 1.],\n",
      "        [0., 0., 0.],\n",
      "        [0., 0., 0.],\n",
      "        [0., 1., 1.],\n",
      "        [0., 1., 1.],\n",
      "        [1., 1., 0.],\n",
      "        [0., 1., 0.],\n",
      "        [0., 0., 1.],\n",
      "        [0., 1., 1.],\n",
      "        [0., 0., 1.],\n",
      "        [0., 0., 1.],\n",
      "        [1., 0., 1.],\n",
      "        [0., 1., 0.],\n",
      "        [1., 0., 0.],\n",
      "        [0., 1., 0.],\n",
      "        [0., 0., 1.],\n",
      "        [0., 1., 0.],\n",
      "        [0., 0., 0.],\n",
      "        [0., 1., 0.],\n",
      "        [1., 0., 1.],\n",
      "        [0., 1., 1.],\n",
      "        [0., 1., 1.],\n",
      "        [1., 1., 1.],\n",
      "        [0., 1., 0.],\n",
      "        [1., 0., 0.],\n",
      "        [1., 0., 0.],\n",
      "        [0., 0., 1.],\n",
      "        [0., 0., 1.],\n",
      "        [0., 0., 0.],\n",
      "        [0., 1., 0.],\n",
      "        [1., 0., 0.],\n",
      "        [1., 1., 1.],\n",
      "        [1., 1., 0.],\n",
      "        [0., 1., 1.],\n",
      "        [0., 1., 0.],\n",
      "        [0., 1., 1.],\n",
      "        [1., 0., 0.],\n",
      "        [0., 0., 1.],\n",
      "        [0., 0., 1.],\n",
      "        [1., 0., 0.],\n",
      "        [0., 1., 0.],\n",
      "        [0., 1., 0.],\n",
      "        [1., 1., 0.],\n",
      "        [0., 1., 1.],\n",
      "        [1., 1., 1.],\n",
      "        [0., 0., 1.],\n",
      "        [0., 0., 1.],\n",
      "        [1., 1., 1.],\n",
      "        [1., 1., 1.],\n",
      "        [1., 0., 1.],\n",
      "        [0., 1., 1.],\n",
      "        [1., 0., 0.],\n",
      "        [0., 1., 0.],\n",
      "        [0., 0., 0.],\n",
      "        [1., 0., 0.],\n",
      "        [0., 0., 1.],\n",
      "        [0., 1., 0.],\n",
      "        [1., 1., 0.],\n",
      "        [0., 1., 1.],\n",
      "        [0., 1., 1.],\n",
      "        [1., 1., 0.],\n",
      "        [0., 1., 0.],\n",
      "        [0., 1., 0.],\n",
      "        [0., 1., 1.],\n",
      "        [0., 0., 0.],\n",
      "        [0., 0., 0.],\n",
      "        [1., 0., 0.],\n",
      "        [0., 0., 1.],\n",
      "        [0., 0., 1.],\n",
      "        [1., 1., 0.],\n",
      "        [0., 0., 1.],\n",
      "        [1., 0., 0.],\n",
      "        [1., 1., 1.],\n",
      "        [1., 1., 1.],\n",
      "        [1., 0., 0.],\n",
      "        [1., 0., 1.],\n",
      "        [1., 1., 1.],\n",
      "        [1., 0., 0.],\n",
      "        [1., 1., 0.],\n",
      "        [1., 0., 0.],\n",
      "        [0., 1., 0.],\n",
      "        [1., 0., 1.],\n",
      "        [0., 1., 1.],\n",
      "        [1., 1., 0.],\n",
      "        [0., 0., 0.],\n",
      "        [0., 1., 1.],\n",
      "        [0., 1., 1.],\n",
      "        [0., 0., 0.],\n",
      "        [1., 1., 0.],\n",
      "        [1., 0., 0.]])\n"
     ]
    }
   ],
   "source": [
    "x = torch.stack([x1, x2, x3], dim=1)\n",
    "x = x.float()\n",
    "print(f\"x:\\n{x}\")"
   ]
  },
  {
   "cell_type": "markdown",
   "metadata": {},
   "source": [
    "## Pertanyaan 3\n",
    "\n",
    "Buatlah sebuah _ground truth_ untuk operasi dari x1 XOR x2 NAND x3. Gunakan fungsi `torch.logical_xor()` dan `torch.logical_not()`. Konversikan hasilnya menjadi float"
   ]
  },
  {
   "cell_type": "code",
   "execution_count": 14,
   "metadata": {},
   "outputs": [
    {
     "name": "stdout",
     "output_type": "stream",
     "text": [
      "y:\n",
      "tensor([1., 0., 0., 1., 1., 1., 1., 1., 1., 1., 0., 1., 1., 0., 0., 1., 1., 1.,\n",
      "        0., 1., 1., 0., 1., 1., 1., 1., 1., 1., 1., 0., 0., 0., 1., 1., 1., 1.,\n",
      "        1., 1., 1., 1., 1., 1., 1., 0., 1., 0., 1., 1., 1., 1., 1., 1., 1., 0.,\n",
      "        1., 1., 1., 1., 1., 0., 0., 1., 1., 1., 1., 1., 1., 1., 0., 0., 1., 1.,\n",
      "        1., 0., 1., 1., 1., 1., 1., 1., 1., 1., 1., 1., 1., 0., 1., 1., 1., 1.,\n",
      "        1., 0., 0., 1., 1., 0., 0., 1., 1., 1.])\n"
     ]
    }
   ],
   "source": [
    "y = torch.logical_xor(x1, x2)\n",
    "y = torch.logical_and(y, x3)\n",
    "y = torch.logical_not(y).float()\n",
    "print(f\"y:\\n{y}\")"
   ]
  },
  {
   "cell_type": "markdown",
   "metadata": {},
   "source": [
    "## Pertanyaan 4\n",
    "\n",
    "Lakukan split terhadap x dan y dengan persentase 80% untuk data training dan 20% untuk data testing."
   ]
  },
  {
   "cell_type": "code",
   "execution_count": 15,
   "metadata": {},
   "outputs": [
    {
     "name": "stdout",
     "output_type": "stream",
     "text": [
      "Panjang dari x_train: 80 | Panjang dari y_train: 80 | Panjang dari x_test: 20 | Panjang dari y_test: 20\n"
     ]
    }
   ],
   "source": [
    "train_length = int(0.8 * len(x))\n",
    "x_train = x[:train_length]\n",
    "y_train = y[:train_length]\n",
    "x_test = x[train_length:]\n",
    "y_test = y[train_length:]\n",
    "\n",
    "print(f\"Panjang dari x_train: {len(x_train)} | Panjang dari y_train: {len(y_train)} | Panjang dari x_test: {len(x_test)} | Panjang dari y_test: {len(y_test)}\")"
   ]
  },
  {
   "cell_type": "markdown",
   "metadata": {},
   "source": [
    "## Pertanyaan 5\n",
    "\n",
    "Buatlah model sederhana yang sama dengan model yang dibahas pada modul 01. Gunakan fungsi `nn.Linear()` untuk membuat model tersebut. Kamu dapat melakukan copy paste dari modul 01 namun jangan lupa untuk mengubah input dan output layer menjadi 3 yang tadinya 2"
   ]
  },
  {
   "cell_type": "code",
   "execution_count": 16,
   "metadata": {},
   "outputs": [],
   "source": [
    "# membuat model regresi linear\n",
    "class XORModel(nn.Module):\n",
    "    def __init__(self):\n",
    "        super().__init__()\n",
    "        self.linear = nn.Linear(3, 3)\n",
    "        self.sigmoid = nn.Sigmoid()\n",
    "        self.linear2 = nn.Linear(3, 1)\n",
    "        \n",
    "\n",
    "    def forward(self, x):\n",
    "        x = self.linear(x)\n",
    "        x = self.sigmoid(x)\n",
    "        x = self.linear2(x)\n",
    "        x = self.sigmoid(x)\n",
    "        return x"
   ]
  },
  {
   "cell_type": "markdown",
   "metadata": {},
   "source": [
    "## Pertanyaan 6\n",
    "\n",
    "Muat kelas model yang dibuat pada variabel `model` lalu gunakan fungsi `nn.CrossEntropyLoss()` untuk membuat fungsi loss dan `torch.optim.Adam()` untuk membuat optimizer dengan learning rate sebesar 0.1. "
   ]
  },
  {
   "cell_type": "code",
   "execution_count": 17,
   "metadata": {},
   "outputs": [],
   "source": [
    "model = XORModel()\n",
    "loss_fn = nn.BCELoss()\n",
    "optim = torch.optim.Adam(model.parameters(), lr=0.01)"
   ]
  },
  {
   "cell_type": "markdown",
   "metadata": {},
   "source": [
    "## Pertanyaan 7\n",
    "\n",
    "Buatlah training loop dengan epoch sebanyak 2000. Cetak loss setiap 100 epoch."
   ]
  },
  {
   "cell_type": "code",
   "execution_count": 18,
   "metadata": {},
   "outputs": [
    {
     "name": "stdout",
     "output_type": "stream",
     "text": [
      "Epoch: 0 | Loss: 0.6452 | Val Loss: 0.6454\n",
      "Epoch: 100 | Loss: 0.4109 | Val Loss: 0.4588\n",
      "Epoch: 200 | Loss: 0.3352 | Val Loss: 0.4039\n",
      "Epoch: 300 | Loss: 0.2785 | Val Loss: 0.3791\n",
      "Epoch: 400 | Loss: 0.2387 | Val Loss: 0.3683\n",
      "Epoch: 500 | Loss: 0.2072 | Val Loss: 0.3376\n",
      "Epoch: 600 | Loss: 0.1560 | Val Loss: 0.2529\n",
      "Epoch: 700 | Loss: 0.1054 | Val Loss: 0.1654\n",
      "Epoch: 800 | Loss: 0.0714 | Val Loss: 0.1086\n",
      "Epoch: 900 | Loss: 0.0511 | Val Loss: 0.0764\n",
      "Epoch: 1000 | Loss: 0.0386 | Val Loss: 0.0571\n",
      "Epoch: 1100 | Loss: 0.0303 | Val Loss: 0.0447\n",
      "Epoch: 1200 | Loss: 0.0246 | Val Loss: 0.0361\n",
      "Epoch: 1300 | Loss: 0.0204 | Val Loss: 0.0300\n",
      "Epoch: 1400 | Loss: 0.0172 | Val Loss: 0.0253\n",
      "Epoch: 1500 | Loss: 0.0148 | Val Loss: 0.0217\n",
      "Epoch: 1600 | Loss: 0.0128 | Val Loss: 0.0189\n",
      "Epoch: 1700 | Loss: 0.0112 | Val Loss: 0.0165\n",
      "Epoch: 1800 | Loss: 0.0099 | Val Loss: 0.0146\n",
      "Epoch: 1900 | Loss: 0.0088 | Val Loss: 0.0130\n"
     ]
    }
   ],
   "source": [
    "epoch = 2000\n",
    "for i in range(epoch):\n",
    "    y_pred = model(x_train)\n",
    "    loss = loss_fn(y_pred, y_train.unsqueeze(1))\n",
    "    optim.zero_grad()\n",
    "    loss.backward()\n",
    "    optim.step()\n",
    "\n",
    "    # validasi\n",
    "    with torch.no_grad():\n",
    "        y_pred = model(x_test)\n",
    "        val_loss = loss_fn(y_pred, y_test.unsqueeze(1))\n",
    "\n",
    "    if i % 100 == 0:\n",
    "        print(f\"Epoch: {i} | Loss: {loss.item():.4f} | Val Loss: {val_loss.item():.4f}\")\n"
   ]
  },
  {
   "cell_type": "markdown",
   "metadata": {},
   "source": [
    "## Pertanyaan 8\n",
    "\n",
    "Dengan menggunakan masukan berupa `[0, 0, 1]` dan `[1, 1, 0]` lakukan prediksi dengan model yang telah dibuat. Apakah hasilnya sudah tepat?\n",
    "\n",
    "**Jawaban seharusnya**\n",
    "- 0 XOR 0 NAND 1 = 1\n",
    "- 1 XOR 1 NAND 0 = 1"
   ]
  },
  {
   "cell_type": "code",
   "execution_count": 19,
   "metadata": {},
   "outputs": [
    {
     "name": "stdout",
     "output_type": "stream",
     "text": [
      "y_pred:\n",
      "tensor([1., 1.])\n"
     ]
    }
   ],
   "source": [
    "x_inference = torch.tensor([[0, 0, 1], [1, 1, 0]], dtype=torch.float)\n",
    "with torch.no_grad():\n",
    "    y_pred = model(x_inference)\n",
    "    y_pred = torch.round(y_pred).squeeze(1)\n",
    "    print(f\"y_pred:\\n{y_pred}\")"
   ]
  },
  {
   "cell_type": "code",
   "execution_count": 22,
   "metadata": {},
   "outputs": [
    {
     "name": "stdout",
     "output_type": "stream",
     "text": [
      "tensor([1., 1.])\n"
     ]
    }
   ],
   "source": [
    "y = torch.logical_xor(x_inference[:, 0], x_inference[:, 1])\n",
    "y = torch.logical_and(y, x_inference[:, 2])\n",
    "y = torch.logical_not(y).float()\n",
    "print(y)"
   ]
  }
 ],
 "metadata": {
  "kernelspec": {
   "display_name": "Python 3.8.15 ('py38belajarpt')",
   "language": "python",
   "name": "python3"
  },
  "language_info": {
   "codemirror_mode": {
    "name": "ipython",
    "version": 3
   },
   "file_extension": ".py",
   "mimetype": "text/x-python",
   "name": "python",
   "nbconvert_exporter": "python",
   "pygments_lexer": "ipython3",
   "version": "3.8.15"
  },
  "orig_nbformat": 4,
  "vscode": {
   "interpreter": {
    "hash": "70e73a41c653c3ff2c4eb4196dfcfae1e64ffcb4fa97f2ff95a868530ad91676"
   }
  }
 },
 "nbformat": 4,
 "nbformat_minor": 2
}
