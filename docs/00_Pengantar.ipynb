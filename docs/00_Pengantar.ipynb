{
 "cells": [
  {
   "cell_type": "markdown",
   "metadata": {},
   "source": [
    "<a href=\"tba\" target=\"_parent\"><img src=\"https://colab.research.google.com/assets/colab-badge.svg\" alt=\"Open In Colab\"/></a> \n",
    "\n",
    "[Source Code Jupyter Notebook]()\n",
    "\n",
    "\n",
    "\n",
    "# 0. Pengantar\n",
    "\n",
    "\n",
    "\n",
    "Pada bagian ini kamu diharapkan mampu:\n",
    "- Memahami esensi deep learning\n",
    "- Memahami PyTorch dan alasan menggunakannya\n",
    "- Membuat variabel tensor dan operasi tensor sederhana\n",
    "- Menjalankan operasi tensor menggunakan GPU\n",
    "\n",
    "<br>\n",
    "\n",
    "<div align=\"center\">\n",
    "<img src=\"https://media.tenor.com/HWzTY5EBzOsAAAAC/are-you-ready-kids-sponge-bob.gif\" width=\"350\"/>\n",
    "</div>\n"
   ]
  },
  {
   "cell_type": "markdown",
   "metadata": {},
   "source": [
    "## Apa itu PyTorch\n",
    "\n",
    "### Sekilas Tentang PyTorch\n",
    "\n",
    "PyTorch adalah sebuah library Python yang digunakan untuk melakukan komputasi numerik dengan menggunakan GPU. PyTorch merupakan salah satu library yang paling populer untuk melakukan deep learning. PyTorch memiliki beberapa kelebihan dibandingkan dengan library deep learning lainnya, diantaranya:\n",
    "- PyTorch memiliki API yang sangat mudah digunakan dan mudah dipelajari\n",
    "- PyTorch memiliki dokumentasi yang lengkap dan mudah diakses\n",
    "- PyTorch memiliki komunitas yang sangat besar dan aktif\n",
    "- PyTorch memiliki dukungan dari perusahaan besar seperti Facebook, Uber, dan Google\n",
    "\n",
    "Juga terdapat beberapa framework deep learning lainnya seperti TensorFlow, Keras, dan Caffe. Namun, pada tutorial ini kita akan menggunakan PyTorch sebagai framework utama untuk melakukan deep learning.\n",
    "\n",
    "> Mana yeng lebih baik, PyTorch atau Tensorflow. Cari tahu jawabannya [pada tautan berikut ini](https://www.assemblyai.com/blog/pytorch-vs-tensorflow-in-2022/)\n",
    "\n",
    "### Siapa saja yang menggunakan PyTorch\n",
    "- [Facebook / MetaAI](https://ai.facebook.com/blog/pytorch-builds-the-future-of-ai-and-machine-learning-at-facebook/)\n",
    "- [Uber](https://www.youtube.com/watch?v=i2hHC0NBY5s)\n",
    "- [Tesla](https://analyticsindiamag.com/tesla-pytorch-self-driving-computer-vision-karpathy-elon-musk-ai/)\n",
    "- [Microsoft](https://azure.microsoft.com/en-us/resources/developers/pytorch/#:~:text=PyTorch%20is%20an%20open%2Dsource,Bing%2C%20Xbox%2C%20and%20more.)\n",
    "- [dan masih banyak lagi](https://analyticsindiamag.com/how-pytorch-is-increasingly-being-adopted-by-organizations/)\n",
    "\n",
    "## Mulai menggunakan pytorch\n",
    "\n",
    "Untuk mulai menggunakannya pastikan anda sudah melakukan instalasi sesuai dengan petunjuk [berikut ini](../instalasi) atau yang ada pada [website official PyTorch](https://pytorch.org/get-started/locally/)\n",
    "\n",
    "### Mengimpor PyTorch\n",
    "\n",
    "Setelah itu kamu dapat melakukan import library PyTorch dengan cara berikut:"
   ]
  },
  {
   "cell_type": "code",
   "execution_count": 2,
   "metadata": {},
   "outputs": [
    {
     "name": "stdout",
     "output_type": "stream",
     "text": [
      "1.13.0\n",
      "Python version: 3.8.15 (default, Nov 24 2022, 15:19:38) \n",
      "[GCC 11.2.0]\n"
     ]
    }
   ],
   "source": [
    "import torch\n",
    "print(torch.__version__)\n",
    "print(f\"Python version: {sys.version}\")"
   ]
  },
  {
   "cell_type": "markdown",
   "metadata": {},
   "source": [
    "Dalam tutorial ini, saya menggunakan PyTorch versi 1.13.0 dan Python versi 3.8.15. Versi kamu mungkin saja berbeda, namun itu tidak jadi masalah asalkan versi yang kamu gunakan adalah versi yang terbaru.\n",
    "\n",
    "### Membuat Tensor\n",
    "\n",
    "**Apa itu tensor?**\n",
    "\n",
    "Tensor adalah sebuah array multidimensi yang dapat digunakan untuk melakukan operasi matematika. Tensor dapat digunakan untuk melakukan operasi matematika seperti perkalian matriks, konvolusi, dan lain-lain. Tensor juga dapat digunakan untuk melakukan operasi matematika pada data-data yang memiliki dimensi lebih dari 2.\n",
    "\n",
    "<div align=\"center\">\n",
    "\n",
    "<img src=\"https://miro.medium.com/max/1144/1*PDC6NHVmFXFZqxFf4YRSDg.png\" width=\"600\"/>\n",
    "\n",
    "\n",
    "</div>\n",
    "\n",
    "_Sumber: [Analytics Vidhya](https://medium.com/analytics-vidhya/lighting-the-pytorch-tensors-298b82722420)_\n",
    "\n",
    "\n",
    "\n",
    "**Mengapa operasi deep learning dilakukan pada tipe data tensor?**\n",
    "\n",
    "Deep learning dilakukan pada tipe data tensor karena tensor memiliki struktur yang sesuai dengan cara kerja neural network. NN terdiri dari banyak node yang terhubung dengan satu sama lain, dan tensor dapat dengan mudah menyimulasikan hubungan antar node ini. Selain itu, tensor dibutuhkan ketika melakukan backpropagation, dimana kita perlu menghitung turunan dari fungsi loss terhadap parameter-parameter yang ada pada NN.\n",
    "\n",
    "> **Catatan:**\n",
    "> Jikalau sampai di tahap ini kamu bingung dengan penjelasannya, jangan khawatir. Kita akan membahasnya lebih dalam pada bagian selanjutnya. Biasanya setelah mencoba langsung, kamu akan lebih mudah memahami konsepnya.\n",
    "\n",
    "Sekarang kita akan mencoba membuat tensor"
   ]
  },
  {
   "cell_type": "code",
   "execution_count": 3,
   "metadata": {},
   "outputs": [
    {
     "name": "stdout",
     "output_type": "stream",
     "text": [
      "tensor(5)\n"
     ]
    }
   ],
   "source": [
    "# Tensor berbentuk skalar\n",
    "scalar = torch.tensor(5)\n",
    "print(scalar)"
   ]
  },
  {
   "cell_type": "markdown",
   "metadata": {},
   "source": [
    "Dalam hal ini, skalar maksudnya adalah sebuah bilangan tunggal, bukan sebuah array.\n",
    "\n",
    "Kemudian, kita mencoba untuk membuat vektor, yaitu tensor dengan dimensi 1 yang memiliki beberapa elemen."
   ]
  },
  {
   "cell_type": "code",
   "execution_count": 6,
   "metadata": {},
   "outputs": [
    {
     "name": "stdout",
     "output_type": "stream",
     "text": [
      "tensor([1, 2, 3, 4, 5])\n",
      "1\n",
      "torch.Size([5])\n"
     ]
    }
   ],
   "source": [
    "# vector\n",
    "vector = torch.tensor([1, 2, 3, 4, 5])\n",
    "print(vector)\n",
    "print(vector.ndim)\n",
    "print(vector.shape)"
   ]
  },
  {
   "cell_type": "markdown",
   "metadata": {},
   "source": [
    "**Penjelasan**\n",
    "- `torch.tensor()` digunakan untuk membuat tensor\n",
    "- `print(vector.ndim)` digunakan untuk menampilkan dimensi dari tensor yang mana dimensi dari vektor adalah 1\n",
    "- `print(vector.shape)` digunakan untuk menampilkan ukuran dari tensor yang mana ukuran dari vektor adalah 5, yang artinya vektor tersebut memiliki 5 elemen pada dimensi pertama\n",
    "\n",
    "Mari lihat contoh lainnya:"
   ]
  },
  {
   "cell_type": "code",
   "execution_count": 7,
   "metadata": {},
   "outputs": [
    {
     "name": "stdout",
     "output_type": "stream",
     "text": [
      "tensor([[ 1,  2,  3,  4,  5],\n",
      "        [ 6,  7,  8,  9, 10]])\n",
      "2\n",
      "torch.Size([2, 5])\n"
     ]
    }
   ],
   "source": [
    "# vector 2 dimensi\n",
    "vector2 = torch.tensor([[1, 2, 3, 4, 5], [6, 7, 8, 9, 10]])\n",
    "print(vector2)\n",
    "print(vector2.ndim)\n",
    "print(vector2.shape)"
   ]
  },
  {
   "cell_type": "code",
   "execution_count": 8,
   "metadata": {},
   "outputs": [
    {
     "name": "stdout",
     "output_type": "stream",
     "text": [
      "tensor([[[ 1,  2,  3,  4,  5],\n",
      "         [ 6,  7,  8,  9, 10]],\n",
      "\n",
      "        [[11, 12, 13, 14, 15],\n",
      "         [16, 17, 18, 19, 20]]])\n",
      "3\n",
      "torch.Size([2, 2, 5])\n"
     ]
    }
   ],
   "source": [
    "# vector 3 dimensi\n",
    "vector3 = torch.tensor([[[1, 2, 3, 4, 5], [6, 7, 8, 9, 10]], [[11, 12, 13, 14, 15], [16, 17, 18, 19, 20]]])\n",
    "print(vector3)\n",
    "print(vector3.ndim)\n",
    "print(vector3.shape)"
   ]
  },
  {
   "cell_type": "markdown",
   "metadata": {},
   "source": [
    "Dalam contoh vektor 3 dimensi, ukuran dari tensor adalah (2, 2, 5) yang artinya tensor tersebut memiliki 2 elemen pada dimensi pertama, 2 elemen pada dimensi kedua, dan 5 elemen pada dimensi ketiga.\n",
    "\n",
    "Gambar berikut mungkin dapat memberikan gambaran yang lebih jelas tentang dimensi dan ukuran dari tensor.\n",
    "\n",
    "<div align=\"center\">\n",
    "<img src=\"https://raw.githubusercontent.com/mrdbourke/pytorch-deep-learning/main/images/00-pytorch-different-tensor-dimensions.png\" width=\"600\"/>\n",
    "\n",
    "\n",
    "\n",
    "</div>\n",
    "\n",
    "_Sumber: [Mrdbourke's Github](https://raw.githubusercontent.com/mrdbourke/pytorch-deep-learning/main/images/00-pytorch-different-tensor-dimensions.png)_"
   ]
  },
  {
   "cell_type": "markdown",
   "metadata": {},
   "source": [
    "### Membuat Random Tensor\n",
    "\n",
    "Kita juga dapat membuat tensor dengan nilai random. Kita dapat melakukan hal ini dengan menggunakan fungsi `torch.rand()`. Fungsi ini akan menghasilkan nilai random dengan distribusi uniform.\n",
    "\n",
    "Misalnya:"
   ]
  },
  {
   "cell_type": "code",
   "execution_count": 10,
   "metadata": {},
   "outputs": [
    {
     "name": "stdout",
     "output_type": "stream",
     "text": [
      "tensor([[0.1194, 0.6133, 0.7105, 0.1851, 0.7984],\n",
      "        [0.4052, 0.5658, 0.0851, 0.3112, 0.5106],\n",
      "        [0.2376, 0.1833, 0.8114, 0.8657, 0.7385],\n",
      "        [0.8214, 0.4312, 0.4721, 0.3701, 0.4834]])\n",
      "2\n",
      "torch.Size([4, 5])\n"
     ]
    }
   ],
   "source": [
    "# Random Tensor Dengan Ukuran (4,5)\n",
    "randomtensor = torch.rand(4, 5)\n",
    "print(randomtensor)\n",
    "print(randomtensor.ndim)\n",
    "print(randomtensor.shape)"
   ]
  },
  {
   "cell_type": "markdown",
   "metadata": {},
   "source": [
    "contoh lainnya:"
   ]
  },
  {
   "cell_type": "code",
   "execution_count": 11,
   "metadata": {},
   "outputs": [
    {
     "name": "stdout",
     "output_type": "stream",
     "text": [
      "tensor([[[0.8646, 0.5219, 0.5577, 0.9573],\n",
      "         [0.0956, 0.4181, 0.6809, 0.3668],\n",
      "         [0.0375, 0.4865, 0.7610, 0.3619]],\n",
      "\n",
      "        [[0.6733, 0.8181, 0.1216, 0.5344],\n",
      "         [0.8392, 0.0322, 0.5567, 0.8987],\n",
      "         [0.1189, 0.4480, 0.6800, 0.8708]]])\n",
      "3\n",
      "torch.Size([2, 3, 4])\n"
     ]
    }
   ],
   "source": [
    "# Random Tensor dengan ukuran (2,3,4)\n",
    "randomtensor2 = torch.rand(2, 3, 4)\n",
    "print(randomtensor2)\n",
    "print(randomtensor2.ndim)\n",
    "print(randomtensor2.shape)"
   ]
  },
  {
   "cell_type": "markdown",
   "metadata": {},
   "source": [
    "### Membuat Range Tensor\n",
    "\n",
    "Kita juga dapat membuat tensor dengan nilai range. Kita dapat melakukan hal ini dengan menggunakan fungsi `torch.arange()`. Fungsi ini akan menghasilkan nilai range dengan interval yang ditentukan.\n",
    "\n",
    "Contohnya:"
   ]
  },
  {
   "cell_type": "code",
   "execution_count": 12,
   "metadata": {},
   "outputs": [
    {
     "name": "stdout",
     "output_type": "stream",
     "text": [
      "tensor([0, 1, 2, 3, 4, 5, 6, 7, 8, 9])\n",
      "1\n",
      "torch.Size([10])\n"
     ]
    }
   ],
   "source": [
    "# Range Tensor\n",
    "rangetensor = torch.arange(0, 10)\n",
    "print(rangetensor)\n",
    "print(rangetensor.ndim)\n",
    "print(rangetensor.shape)"
   ]
  },
  {
   "cell_type": "markdown",
   "metadata": {},
   "source": [
    "**Penjelasan**\n",
    "\n",
    "- `torch.arange()` digunakan untuk membuat tensor dengan nilai range\n",
    "- Argumen pertama dari fungsi `torch.arange()` adalah nilai awal dari range, yaitu 0\n",
    "- Argumen kedua dari fungsi `torch.arange()` adalah nilai akhir dari range, yaitu 10"
   ]
  },
  {
   "cell_type": "code",
   "execution_count": 13,
   "metadata": {},
   "outputs": [
    {
     "name": "stdout",
     "output_type": "stream",
     "text": [
      "tensor([0, 2, 4, 6, 8])\n",
      "1\n",
      "torch.Size([5])\n"
     ]
    }
   ],
   "source": [
    "# Contoh lain range tensor\n",
    "rangetensor2 = torch.arange(0, 10, 2)\n",
    "print(rangetensor2)\n",
    "print(rangetensor2.ndim)\n",
    "print(rangetensor2.shape)"
   ]
  },
  {
   "cell_type": "markdown",
   "metadata": {},
   "source": [
    "**Penjelasan**\n",
    "- Argumen ketiga dari fungsi `torch.arange()` adalah interval dari range, yaitu 2\n",
    "- Dalam hal ini, kita akan mendapatkan nilai range dari 0 sampai 10 dengan interval 2"
   ]
  },
  {
   "cell_type": "code",
   "execution_count": 14,
   "metadata": {},
   "outputs": [
    {
     "name": "stdout",
     "output_type": "stream",
     "text": [
      "tensor([0.0000, 0.5000, 1.0000, 1.5000, 2.0000, 2.5000, 3.0000, 3.5000, 4.0000,\n",
      "        4.5000, 5.0000, 5.5000, 6.0000, 6.5000, 7.0000, 7.5000, 8.0000, 8.5000,\n",
      "        9.0000, 9.5000])\n",
      "1\n",
      "torch.Size([20])\n"
     ]
    }
   ],
   "source": [
    "# Contoh lain range tensor\n",
    "rangetensor3 = torch.arange(0, 10, 0.5)\n",
    "print(rangetensor3)\n",
    "print(rangetensor3.ndim)\n",
    "print(rangetensor3.shape)"
   ]
  },
  {
   "cell_type": "markdown",
   "metadata": {},
   "source": [
    "### Tensor Zeros dan Ones\n",
    "\n",
    "Zeros adalah tensor yang berisi semua nilai 0, sedangkan ones adalah tensor yang berisi semua nilai 1. Kita dapat membuat tensor zeros dan ones dengan menggunakan fungsi `torch.zeros()` dan `torch.ones()`.\n",
    "\n",
    "Contohnya:"
   ]
  },
  {
   "cell_type": "code",
   "execution_count": 15,
   "metadata": {},
   "outputs": [
    {
     "name": "stdout",
     "output_type": "stream",
     "text": [
      "tensor([[1., 1., 1., 1., 1.],\n",
      "        [1., 1., 1., 1., 1.],\n",
      "        [1., 1., 1., 1., 1.],\n",
      "        [1., 1., 1., 1., 1.]])\n",
      "2\n",
      "torch.Size([4, 5])\n"
     ]
    }
   ],
   "source": [
    "# Tensor dengan nilai 1\n",
    "tensor1 = torch.ones(4, 5)\n",
    "print(tensor1)\n",
    "print(tensor1.ndim)\n",
    "print(tensor1.shape)"
   ]
  },
  {
   "cell_type": "code",
   "execution_count": 16,
   "metadata": {},
   "outputs": [
    {
     "name": "stdout",
     "output_type": "stream",
     "text": [
      "tensor([[0., 0., 0., 0., 0.],\n",
      "        [0., 0., 0., 0., 0.],\n",
      "        [0., 0., 0., 0., 0.],\n",
      "        [0., 0., 0., 0., 0.]])\n",
      "2\n",
      "torch.Size([4, 5])\n"
     ]
    }
   ],
   "source": [
    "# Tensor dengan nilai 0\n",
    "tensor0 = torch.zeros(4, 5)\n",
    "print(tensor0)\n",
    "print(tensor0.ndim)\n",
    "print(tensor0.shape)"
   ]
  },
  {
   "cell_type": "markdown",
   "metadata": {},
   "source": [
    "### Mengecek dan Mengubah Tipe Data Tensor\n",
    "Untuk mengecek tipe data dari tensor, kita dapat menggunakan fungsi `dtype` dari tensor tersebut. Untuk mengubah tipe data dari tensor, kita dapat menggunakan fungsi `to()` dari tensor tersebut. Contohnya sebagai berikut:"
   ]
  },
  {
   "cell_type": "code",
   "execution_count": 17,
   "metadata": {},
   "outputs": [
    {
     "name": "stdout",
     "output_type": "stream",
     "text": [
      "tensor([0, 1, 2, 3, 4])\n",
      "1\n",
      "torch.Size([5])\n",
      "torch.int64\n"
     ]
    }
   ],
   "source": [
    "tensor_x = torch.arange(0, 5)\n",
    "print(tensor_x)\n",
    "print(tensor_x.ndim)\n",
    "print(tensor_x.shape)\n",
    "print(tensor_x.dtype)"
   ]
  },
  {
   "cell_type": "markdown",
   "metadata": {},
   "source": [
    "Dalam contoh di atas, kita menggunakan fungsi `dtype` untuk mengecek tipe data dari tensor `x`. Kemudian, kita menggunakan fungsi `to()` untuk mengubah tipe data dari tensor `x` menjadi `float32` pada contoh berikut ini:"
   ]
  },
  {
   "cell_type": "code",
   "execution_count": 18,
   "metadata": {},
   "outputs": [
    {
     "name": "stdout",
     "output_type": "stream",
     "text": [
      "torch.float32\n"
     ]
    }
   ],
   "source": [
    "# konversi tensor_x menjadi float32\n",
    "tensor_x = tensor_x.float()\n",
    "print(tensor_x.dtype)"
   ]
  },
  {
   "cell_type": "markdown",
   "metadata": {},
   "source": [
    "Kita juga dapat mendefinisikan tipe data dari tensor di awal ketika kita membuat tensor tersebut. Contohnya sebagai berikut:"
   ]
  },
  {
   "cell_type": "code",
   "execution_count": 19,
   "metadata": {},
   "outputs": [
    {
     "name": "stdout",
     "output_type": "stream",
     "text": [
      "torch.float32\n"
     ]
    }
   ],
   "source": [
    "tensor_x = torch.arange(0, 5).float()\n",
    "print(tensor_x.dtype)"
   ]
  },
  {
   "cell_type": "markdown",
   "metadata": {},
   "source": [
    "Terdapat banyak tipe data pada PyTorch. Pada umumnya, kita akan menggunakan `float32` atau torch.float. Ini mengacu pada bilangan real dengan presisi 32-bit. Untuk melihat daftar lengkap dari tipe data yang tersedia, kamu dapat membuka dokumentasi PyTorch [disini](https://pytorch.org/docs/stable/tensors.html).\n",
    "\n",
    "**Apa itu Presisi 32-bit?**\n",
    "\n",
    "Presisi 32-bit adalah jumlah bit yang digunakan untuk menyimpan bilangan real. Semakin banyak bit yang digunakan, semakin presisi bilangan real yang dapat disimpan. Semakin presisi bilangan real yang dapat disimpan, semakin besar ukuran dari bilangan real tersebut.\n",
    "\n",
    "**Apakah bisa menggunakan tipe data lain?**\n",
    "\n",
    "Tentu saja bisa. Terdapat istilah half-precision dan double-precision. Half-precision adalah tipe data dengan presisi 16-bit, sedangkan double-precision adalah tipe data dengan presisi 64-bit.\n",
    "\n",
    "**Mengapa Menggunakan Float dan Bukan Integer?**\n",
    "\n",
    "Karena kita akan melakukan operasi matematika pada tensor, maka kita membutuhkan tipe data yang dapat menyimpan bilangan real. Operasi matematika ini akan menghasilkan bilangan real, bukan bilangan bulat. Semakin presisi bilangan real yang dapat disimpan, semakin presisi hasil dari operasi matematika tersebut. Namun, semakin presisi bilangan real yang dapat disimpan, semakin besar ukuran dari bilangan real tersebut.\n",
    "\n",
    "\n",
    "\n",
    "<div align=\"center\">\n",
    "\n",
    "<img src=\"https://blogs.nvidia.com/wp-content/uploads/2020/05/tf32-Mantissa-chart-hi-res-FINAL.png\" width=600>\n",
    "\n",
    "</div>\n",
    "\n",
    "_Sumber: [Nvidia Blog](https://blogs.nvidia.com/blog/2020/05/14/tensorfloat-32-precision-format/)_"
   ]
  }
 ],
 "metadata": {
  "kernelspec": {
   "display_name": "Python 3.8.15 ('py38_torch2022')",
   "language": "python",
   "name": "python3"
  },
  "language_info": {
   "codemirror_mode": {
    "name": "ipython",
    "version": 3
   },
   "file_extension": ".py",
   "mimetype": "text/x-python",
   "name": "python",
   "nbconvert_exporter": "python",
   "pygments_lexer": "ipython3",
   "version": "3.8.15"
  },
  "orig_nbformat": 4,
  "vscode": {
   "interpreter": {
    "hash": "79a67254c64c4a09f75aee6d879e99f270d8544de2eef47b8382209bbc3c2ff4"
   }
  }
 },
 "nbformat": 4,
 "nbformat_minor": 2
}
