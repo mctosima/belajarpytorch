{
 "cells": [
  {
   "cell_type": "markdown",
   "metadata": {},
   "source": [
    "[Source Code Jupyter Notebook](https://github.com/mctosima/belajarpytorch/blob/main/docs/00_Pengantar.ipynb)\n",
    "\n",
    "\n",
    "\n",
    "# 0. Pengantar\n",
    "\n",
    "\n",
    "\n",
    "Pada bagian ini kamu diharapkan mampu:\n",
    "- Memahami esensi deep learning\n",
    "- Memahami PyTorch dan alasan menggunakannya\n",
    "- Membuat variabel tensor dan operasi tensor sederhana\n",
    "- Menjalankan operasi tensor menggunakan GPU\n",
    "\n",
    "<br>\n",
    "\n",
    "<div align=\"center\">\n",
    "<img src=\"https://media.tenor.com/HWzTY5EBzOsAAAAC/are-you-ready-kids-sponge-bob.gif\" width=\"350\"/>\n",
    "</div>\n"
   ]
  },
  {
   "cell_type": "markdown",
   "metadata": {},
   "source": [
    "## Apa itu PyTorch\n",
    "\n",
    "### Sekilas Tentang PyTorch\n",
    "\n",
    "PyTorch adalah sebuah library Python yang digunakan untuk melakukan komputasi numerik dengan menggunakan GPU. PyTorch merupakan salah satu library yang paling populer untuk melakukan deep learning. PyTorch memiliki beberapa kelebihan dibandingkan dengan library deep learning lainnya, diantaranya:\n",
    "- PyTorch memiliki API yang sangat mudah digunakan dan mudah dipelajari\n",
    "- PyTorch memiliki dokumentasi yang lengkap dan mudah diakses\n",
    "- PyTorch memiliki komunitas yang sangat besar dan aktif\n",
    "- PyTorch memiliki dukungan dari perusahaan besar seperti Facebook, Uber, dan Google\n",
    "\n",
    "Juga terdapat beberapa framework deep learning lainnya seperti TensorFlow, Keras, dan Caffe. Namun, pada tutorial ini kita akan menggunakan PyTorch sebagai framework utama untuk melakukan deep learning.\n",
    "\n",
    "> Mana yeng lebih baik, PyTorch atau Tensorflow. Cari tahu jawabannya [pada tautan berikut ini](https://www.assemblyai.com/blog/pytorch-vs-tensorflow-in-2022/)\n",
    "\n",
    "### Siapa saja yang menggunakan PyTorch\n",
    "- [Facebook / MetaAI](https://ai.facebook.com/blog/pytorch-builds-the-future-of-ai-and-machine-learning-at-facebook/)\n",
    "- [Uber](https://www.youtube.com/watch?v=i2hHC0NBY5s)\n",
    "- [Tesla](https://analyticsindiamag.com/tesla-pytorch-self-driving-computer-vision-karpathy-elon-musk-ai/)\n",
    "- [Microsoft](https://azure.microsoft.com/en-us/resources/developers/pytorch/#:~:text=PyTorch%20is%20an%20open%2Dsource,Bing%2C%20Xbox%2C%20and%20more.)\n",
    "- [dan masih banyak lagi](https://analyticsindiamag.com/how-pytorch-is-increasingly-being-adopted-by-organizations/)\n",
    "\n",
    "## Mulai menggunakan pytorch\n",
    "\n",
    "Untuk mulai menggunakannya pastikan anda sudah melakukan instalasi sesuai dengan petunjuk [berikut ini](../instalasi) atau yang ada pada [website official PyTorch](https://pytorch.org/get-started/locally/)\n",
    "\n",
    "### Mengimpor PyTorch\n",
    "\n",
    "Setelah itu kamu dapat melakukan import library PyTorch dengan cara berikut:"
   ]
  },
  {
   "cell_type": "code",
   "execution_count": 1,
   "metadata": {},
   "outputs": [
    {
     "name": "stdout",
     "output_type": "stream",
     "text": [
      "1.13.0\n",
      "Python version: 3.8.15 (default, Nov 24 2022, 15:19:38) \n",
      "[GCC 11.2.0]\n"
     ]
    }
   ],
   "source": [
    "import torch\n",
    "print(torch.__version__)\n",
    "print(f\"Python version: {sys.version}\")"
   ]
  },
  {
   "cell_type": "markdown",
   "metadata": {},
   "source": [
    "Dalam tutorial ini, saya menggunakan PyTorch versi 1.13.0 dan Python versi 3.8.15. Versi kamu mungkin saja berbeda, namun itu tidak jadi masalah asalkan versi yang kamu gunakan adalah versi yang terbaru.\n",
    "\n",
    "### Membuat Tensor\n",
    "\n",
    "**Apa itu tensor?**\n",
    "\n",
    "Tensor adalah sebuah array multidimensi yang dapat digunakan untuk melakukan operasi matematika. Tensor dapat digunakan untuk melakukan operasi matematika seperti perkalian matriks, konvolusi, dan lain-lain. Tensor juga dapat digunakan untuk melakukan operasi matematika pada data-data yang memiliki dimensi lebih dari 2.\n",
    "\n",
    "<div align=\"center\">\n",
    "\n",
    "<img src=\"https://miro.medium.com/max/1144/1*PDC6NHVmFXFZqxFf4YRSDg.png\" width=\"600\"/>\n",
    "\n",
    "\n",
    "</div>\n",
    "\n",
    "_Sumber: [Analytics Vidhya](https://medium.com/analytics-vidhya/lighting-the-pytorch-tensors-298b82722420)_\n",
    "\n",
    "\n",
    "\n",
    "**Mengapa operasi deep learning dilakukan pada tipe data tensor?**\n",
    "\n",
    "Deep learning dilakukan pada tipe data tensor karena tensor memiliki struktur yang sesuai dengan cara kerja neural network. NN terdiri dari banyak node yang terhubung dengan satu sama lain, dan tensor dapat dengan mudah menyimulasikan hubungan antar node ini. Selain itu, tensor dibutuhkan ketika melakukan backpropagation, dimana kita perlu menghitung turunan dari fungsi loss terhadap parameter-parameter yang ada pada NN.\n",
    "\n",
    "> **Catatan:**\n",
    "> Jikalau sampai di tahap ini kamu bingung dengan penjelasannya, jangan khawatir. Kita akan membahasnya lebih dalam pada bagian selanjutnya. Biasanya setelah mencoba langsung, kamu akan lebih mudah memahami konsepnya.\n",
    "\n",
    "Sekarang kita akan mencoba membuat tensor"
   ]
  },
  {
   "cell_type": "code",
   "execution_count": 2,
   "metadata": {},
   "outputs": [
    {
     "name": "stdout",
     "output_type": "stream",
     "text": [
      "tensor(5)\n"
     ]
    }
   ],
   "source": [
    "# Tensor berbentuk skalar\n",
    "scalar = torch.tensor(5)\n",
    "print(scalar)"
   ]
  },
  {
   "cell_type": "markdown",
   "metadata": {},
   "source": [
    "Dalam hal ini, skalar maksudnya adalah sebuah bilangan tunggal, bukan sebuah array.\n",
    "\n",
    "Kemudian, kita mencoba untuk membuat vektor, yaitu tensor dengan dimensi 1 yang memiliki beberapa elemen."
   ]
  },
  {
   "cell_type": "code",
   "execution_count": 3,
   "metadata": {},
   "outputs": [
    {
     "name": "stdout",
     "output_type": "stream",
     "text": [
      "tensor([1, 2, 3, 4, 5])\n",
      "1\n",
      "torch.Size([5])\n"
     ]
    }
   ],
   "source": [
    "# vector\n",
    "vector = torch.tensor([1, 2, 3, 4, 5])\n",
    "print(vector)\n",
    "print(vector.ndim)\n",
    "print(vector.shape)"
   ]
  },
  {
   "cell_type": "markdown",
   "metadata": {},
   "source": [
    "**Penjelasan**\n",
    "- `torch.tensor()` digunakan untuk membuat tensor\n",
    "- `print(vector.ndim)` digunakan untuk menampilkan dimensi dari tensor yang mana dimensi dari vektor adalah 1\n",
    "- `print(vector.shape)` digunakan untuk menampilkan ukuran dari tensor yang mana ukuran dari vektor adalah 5, yang artinya vektor tersebut memiliki 5 elemen pada dimensi pertama\n",
    "\n",
    "Mari lihat contoh lainnya:"
   ]
  },
  {
   "cell_type": "code",
   "execution_count": 4,
   "metadata": {},
   "outputs": [
    {
     "name": "stdout",
     "output_type": "stream",
     "text": [
      "tensor([[ 1,  2,  3,  4,  5],\n",
      "        [ 6,  7,  8,  9, 10]])\n",
      "2\n",
      "torch.Size([2, 5])\n"
     ]
    }
   ],
   "source": [
    "# vector 2 dimensi\n",
    "vector2 = torch.tensor([[1, 2, 3, 4, 5], [6, 7, 8, 9, 10]])\n",
    "print(vector2)\n",
    "print(vector2.ndim)\n",
    "print(vector2.shape)"
   ]
  },
  {
   "cell_type": "code",
   "execution_count": 5,
   "metadata": {},
   "outputs": [
    {
     "name": "stdout",
     "output_type": "stream",
     "text": [
      "tensor([[[ 1,  2,  3,  4,  5],\n",
      "         [ 6,  7,  8,  9, 10]],\n",
      "\n",
      "        [[11, 12, 13, 14, 15],\n",
      "         [16, 17, 18, 19, 20]]])\n",
      "3\n",
      "torch.Size([2, 2, 5])\n"
     ]
    }
   ],
   "source": [
    "# vector 3 dimensi\n",
    "vector3 = torch.tensor([[[1, 2, 3, 4, 5], [6, 7, 8, 9, 10]], [[11, 12, 13, 14, 15], [16, 17, 18, 19, 20]]])\n",
    "print(vector3)\n",
    "print(vector3.ndim)\n",
    "print(vector3.shape)"
   ]
  },
  {
   "cell_type": "markdown",
   "metadata": {},
   "source": [
    "Dalam contoh vektor 3 dimensi, ukuran dari tensor adalah (2, 2, 5) yang artinya tensor tersebut memiliki 2 elemen pada dimensi pertama, 2 elemen pada dimensi kedua, dan 5 elemen pada dimensi ketiga.\n",
    "\n",
    "Gambar berikut mungkin dapat memberikan gambaran yang lebih jelas tentang dimensi dan ukuran dari tensor.\n",
    "\n",
    "<div align=\"center\">\n",
    "<img src=\"https://raw.githubusercontent.com/mrdbourke/pytorch-deep-learning/main/images/00-pytorch-different-tensor-dimensions.png\" width=\"600\"/>\n",
    "\n",
    "\n",
    "\n",
    "</div>\n",
    "\n",
    "_Sumber: [Mrdbourke's Github](https://raw.githubusercontent.com/mrdbourke/pytorch-deep-learning/main/images/00-pytorch-different-tensor-dimensions.png)_"
   ]
  },
  {
   "cell_type": "markdown",
   "metadata": {},
   "source": [
    "### Membuat Random Tensor\n",
    "\n",
    "Kita juga dapat membuat tensor dengan nilai random. Kita dapat melakukan hal ini dengan menggunakan fungsi `torch.rand()`. Fungsi ini akan menghasilkan nilai random dengan distribusi uniform.\n",
    "\n",
    "Misalnya:"
   ]
  },
  {
   "cell_type": "code",
   "execution_count": 6,
   "metadata": {},
   "outputs": [
    {
     "name": "stdout",
     "output_type": "stream",
     "text": [
      "tensor([[0.5075, 0.2941, 0.3851, 0.0887, 0.0684],\n",
      "        [0.2800, 0.3506, 0.2737, 0.6716, 0.8840],\n",
      "        [0.6578, 0.8523, 0.4888, 0.2552, 0.1581],\n",
      "        [0.7552, 0.5331, 0.3123, 0.8760, 0.2568]])\n",
      "2\n",
      "torch.Size([4, 5])\n"
     ]
    }
   ],
   "source": [
    "# Random Tensor Dengan Ukuran (4,5)\n",
    "randomtensor = torch.rand(4, 5)\n",
    "print(randomtensor)\n",
    "print(randomtensor.ndim)\n",
    "print(randomtensor.shape)"
   ]
  },
  {
   "cell_type": "markdown",
   "metadata": {},
   "source": [
    "contoh lainnya:"
   ]
  },
  {
   "cell_type": "code",
   "execution_count": 7,
   "metadata": {},
   "outputs": [
    {
     "name": "stdout",
     "output_type": "stream",
     "text": [
      "tensor([[[0.3678, 0.8739, 0.6830, 0.9904],\n",
      "         [0.8405, 0.4270, 0.3718, 0.7958],\n",
      "         [0.9563, 0.4414, 0.1324, 0.1710]],\n",
      "\n",
      "        [[0.5309, 0.5812, 0.9179, 0.9428],\n",
      "         [0.4143, 0.2184, 0.0627, 0.6450],\n",
      "         [0.4203, 0.0951, 0.3181, 0.3720]]])\n",
      "3\n",
      "torch.Size([2, 3, 4])\n"
     ]
    }
   ],
   "source": [
    "# Random Tensor dengan ukuran (2,3,4)\n",
    "randomtensor2 = torch.rand(2, 3, 4)\n",
    "print(randomtensor2)\n",
    "print(randomtensor2.ndim)\n",
    "print(randomtensor2.shape)"
   ]
  },
  {
   "cell_type": "markdown",
   "metadata": {},
   "source": [
    "### Membuat Range Tensor\n",
    "\n",
    "Kita juga dapat membuat tensor dengan nilai range. Kita dapat melakukan hal ini dengan menggunakan fungsi `torch.arange()`. Fungsi ini akan menghasilkan nilai range dengan interval yang ditentukan.\n",
    "\n",
    "Contohnya:"
   ]
  },
  {
   "cell_type": "code",
   "execution_count": 8,
   "metadata": {},
   "outputs": [
    {
     "name": "stdout",
     "output_type": "stream",
     "text": [
      "tensor([0, 1, 2, 3, 4, 5, 6, 7, 8, 9])\n",
      "1\n",
      "torch.Size([10])\n"
     ]
    }
   ],
   "source": [
    "# Range Tensor\n",
    "rangetensor = torch.arange(0, 10)\n",
    "print(rangetensor)\n",
    "print(rangetensor.ndim)\n",
    "print(rangetensor.shape)"
   ]
  },
  {
   "cell_type": "markdown",
   "metadata": {},
   "source": [
    "**Penjelasan**\n",
    "\n",
    "- `torch.arange()` digunakan untuk membuat tensor dengan nilai range\n",
    "- Argumen pertama dari fungsi `torch.arange()` adalah nilai awal dari range, yaitu 0\n",
    "- Argumen kedua dari fungsi `torch.arange()` adalah nilai akhir dari range, yaitu 10"
   ]
  },
  {
   "cell_type": "code",
   "execution_count": 9,
   "metadata": {},
   "outputs": [
    {
     "name": "stdout",
     "output_type": "stream",
     "text": [
      "tensor([0, 2, 4, 6, 8])\n",
      "1\n",
      "torch.Size([5])\n"
     ]
    }
   ],
   "source": [
    "# Contoh lain range tensor\n",
    "rangetensor2 = torch.arange(0, 10, 2)\n",
    "print(rangetensor2)\n",
    "print(rangetensor2.ndim)\n",
    "print(rangetensor2.shape)"
   ]
  },
  {
   "cell_type": "markdown",
   "metadata": {},
   "source": [
    "**Penjelasan**\n",
    "- Argumen ketiga dari fungsi `torch.arange()` adalah interval dari range, yaitu 2\n",
    "- Dalam hal ini, kita akan mendapatkan nilai range dari 0 sampai 10 dengan interval 2"
   ]
  },
  {
   "cell_type": "code",
   "execution_count": 10,
   "metadata": {},
   "outputs": [
    {
     "name": "stdout",
     "output_type": "stream",
     "text": [
      "tensor([0.0000, 0.5000, 1.0000, 1.5000, 2.0000, 2.5000, 3.0000, 3.5000, 4.0000,\n",
      "        4.5000, 5.0000, 5.5000, 6.0000, 6.5000, 7.0000, 7.5000, 8.0000, 8.5000,\n",
      "        9.0000, 9.5000])\n",
      "1\n",
      "torch.Size([20])\n"
     ]
    }
   ],
   "source": [
    "# Contoh lain range tensor\n",
    "rangetensor3 = torch.arange(0, 10, 0.5)\n",
    "print(rangetensor3)\n",
    "print(rangetensor3.ndim)\n",
    "print(rangetensor3.shape)"
   ]
  },
  {
   "cell_type": "markdown",
   "metadata": {},
   "source": [
    "### Tensor Zeros dan Ones\n",
    "\n",
    "Zeros adalah tensor yang berisi semua nilai 0, sedangkan ones adalah tensor yang berisi semua nilai 1. Kita dapat membuat tensor zeros dan ones dengan menggunakan fungsi `torch.zeros()` dan `torch.ones()`.\n",
    "\n",
    "Contohnya:"
   ]
  },
  {
   "cell_type": "code",
   "execution_count": 11,
   "metadata": {},
   "outputs": [
    {
     "name": "stdout",
     "output_type": "stream",
     "text": [
      "tensor([[1., 1., 1., 1., 1.],\n",
      "        [1., 1., 1., 1., 1.],\n",
      "        [1., 1., 1., 1., 1.],\n",
      "        [1., 1., 1., 1., 1.]])\n",
      "2\n",
      "torch.Size([4, 5])\n"
     ]
    }
   ],
   "source": [
    "# Tensor dengan nilai 1\n",
    "tensor1 = torch.ones(4, 5)\n",
    "print(tensor1)\n",
    "print(tensor1.ndim)\n",
    "print(tensor1.shape)"
   ]
  },
  {
   "cell_type": "code",
   "execution_count": 12,
   "metadata": {},
   "outputs": [
    {
     "name": "stdout",
     "output_type": "stream",
     "text": [
      "tensor([[0., 0., 0., 0., 0.],\n",
      "        [0., 0., 0., 0., 0.],\n",
      "        [0., 0., 0., 0., 0.],\n",
      "        [0., 0., 0., 0., 0.]])\n",
      "2\n",
      "torch.Size([4, 5])\n"
     ]
    }
   ],
   "source": [
    "# Tensor dengan nilai 0\n",
    "tensor0 = torch.zeros(4, 5)\n",
    "print(tensor0)\n",
    "print(tensor0.ndim)\n",
    "print(tensor0.shape)"
   ]
  },
  {
   "cell_type": "markdown",
   "metadata": {},
   "source": [
    "### Mengecek dan Mengubah Tipe Data Tensor\n",
    "Untuk mengecek tipe data dari tensor, kita dapat menggunakan fungsi `dtype` dari tensor tersebut. Untuk mengubah tipe data dari tensor, kita dapat menggunakan fungsi `to()` dari tensor tersebut. Contohnya sebagai berikut:"
   ]
  },
  {
   "cell_type": "code",
   "execution_count": 13,
   "metadata": {},
   "outputs": [
    {
     "name": "stdout",
     "output_type": "stream",
     "text": [
      "tensor([0, 1, 2, 3, 4])\n",
      "1\n",
      "torch.Size([5])\n",
      "torch.int64\n"
     ]
    }
   ],
   "source": [
    "tensor_x = torch.arange(0, 5)\n",
    "print(tensor_x)\n",
    "print(tensor_x.ndim)\n",
    "print(tensor_x.shape)\n",
    "print(tensor_x.dtype)"
   ]
  },
  {
   "cell_type": "markdown",
   "metadata": {},
   "source": [
    "Dalam contoh di atas, kita menggunakan fungsi `dtype` untuk mengecek tipe data dari tensor `x`. Kemudian, kita menggunakan fungsi `to()` untuk mengubah tipe data dari tensor `x` menjadi `float32` pada contoh berikut ini:"
   ]
  },
  {
   "cell_type": "code",
   "execution_count": 14,
   "metadata": {},
   "outputs": [
    {
     "name": "stdout",
     "output_type": "stream",
     "text": [
      "torch.float32\n"
     ]
    }
   ],
   "source": [
    "# konversi tensor_x menjadi float32\n",
    "tensor_x = tensor_x.float()\n",
    "print(tensor_x.dtype)"
   ]
  },
  {
   "cell_type": "markdown",
   "metadata": {},
   "source": [
    "Kita juga dapat mendefinisikan tipe data dari tensor di awal ketika kita membuat tensor tersebut. Contohnya sebagai berikut:"
   ]
  },
  {
   "cell_type": "code",
   "execution_count": 15,
   "metadata": {},
   "outputs": [
    {
     "name": "stdout",
     "output_type": "stream",
     "text": [
      "torch.float32\n"
     ]
    }
   ],
   "source": [
    "tensor_x = torch.arange(0, 5).float()\n",
    "print(tensor_x.dtype)"
   ]
  },
  {
   "cell_type": "markdown",
   "metadata": {},
   "source": [
    "Terdapat banyak tipe data pada PyTorch. Pada umumnya, kita akan menggunakan `float32` atau torch.float. Ini mengacu pada bilangan real dengan presisi 32-bit. Untuk melihat daftar lengkap dari tipe data yang tersedia, kamu dapat membuka dokumentasi PyTorch [disini](https://pytorch.org/docs/stable/tensors.html).\n",
    "\n",
    "**Apa itu Presisi 32-bit?**\n",
    "\n",
    "Presisi 32-bit adalah jumlah bit yang digunakan untuk menyimpan bilangan real. Semakin banyak bit yang digunakan, semakin presisi bilangan real yang dapat disimpan. Semakin presisi bilangan real yang dapat disimpan, semakin besar ukuran dari bilangan real tersebut.\n",
    "\n",
    "**Apakah bisa menggunakan tipe data lain?**\n",
    "\n",
    "Tentu saja bisa. Terdapat istilah half-precision dan double-precision. Half-precision adalah tipe data dengan presisi 16-bit, sedangkan double-precision adalah tipe data dengan presisi 64-bit.\n",
    "\n",
    "**Mengapa Menggunakan Float dan Bukan Integer?**\n",
    "\n",
    "Karena kita akan melakukan operasi matematika pada tensor, maka kita membutuhkan tipe data yang dapat menyimpan bilangan real. Operasi matematika ini akan menghasilkan bilangan real, bukan bilangan bulat. Semakin presisi bilangan real yang dapat disimpan, semakin presisi hasil dari operasi matematika tersebut. Namun, semakin presisi bilangan real yang dapat disimpan, semakin besar ukuran dari bilangan real tersebut.\n",
    "\n",
    "\n",
    "\n",
    "<div align=\"center\">\n",
    "\n",
    "<img src=\"https://blogs.nvidia.com/wp-content/uploads/2020/05/tf32-Mantissa-chart-hi-res-FINAL.png\" width=600>\n",
    "\n",
    "</div>\n",
    "\n",
    "_Sumber: [Nvidia Blog](https://blogs.nvidia.com/blog/2020/05/14/tensorfloat-32-precision-format/)_"
   ]
  },
  {
   "cell_type": "markdown",
   "metadata": {},
   "source": [
    "## Operasi dan Manipulasi Tensor\n",
    "\n",
    "Data direpresentasikan dalam bentuk tensor untuk kemudian diproses. Setiap tensor yang ada dapat dioperasikan dan dimanipulasi. Kita dapat melakukan hal ini dengan menggunakan fungsi-fungsi yang tersedia pada PyTorch.\n",
    "\n",
    "### Operasi Dasar Aritmatika\n",
    "Operasi-operasi aritmatika dasar yang dapat dilakukan pada tensor adalah sebagai berikut:"
   ]
  },
  {
   "cell_type": "code",
   "execution_count": 16,
   "metadata": {},
   "outputs": [
    {
     "name": "stdout",
     "output_type": "stream",
     "text": [
      "tensor([ 7,  9, 11, 13, 15])\n"
     ]
    }
   ],
   "source": [
    "x = torch.tensor([1, 2, 3, 4, 5])\n",
    "y = torch.tensor([6, 7, 8, 9, 10])\n",
    "\n",
    "# operasi penjumlahan\n",
    "z = x + y\n",
    "print(z)"
   ]
  },
  {
   "cell_type": "code",
   "execution_count": 17,
   "metadata": {},
   "outputs": [
    {
     "name": "stdout",
     "output_type": "stream",
     "text": [
      "tensor([5, 5, 5, 5, 5])\n"
     ]
    }
   ],
   "source": [
    "# operasi pengurangan\n",
    "z = y - x\n",
    "print(z)"
   ]
  },
  {
   "cell_type": "code",
   "execution_count": 18,
   "metadata": {},
   "outputs": [
    {
     "name": "stdout",
     "output_type": "stream",
     "text": [
      "Nilai Z setelah penjumlahan 10: tensor([15, 15, 15, 15, 15])\n",
      "Nilai Z setelah pengurangan 2: tensor([13, 13, 13, 13, 13])\n"
     ]
    }
   ],
   "source": [
    "# contoh operasi penjumlahan dan pengurangan lain\n",
    "z = z + 10\n",
    "print(f\"Nilai Z setelah penjumlahan 10: {z}\")\n",
    "z = z - 2\n",
    "print(f\"Nilai Z setelah pengurangan 2: {z}\")"
   ]
  },
  {
   "cell_type": "code",
   "execution_count": 19,
   "metadata": {},
   "outputs": [
    {
     "name": "stdout",
     "output_type": "stream",
     "text": [
      "tensor([ 6, 14, 24, 36, 50])\n",
      "tensor([6.0000, 3.5000, 2.6667, 2.2500, 2.0000])\n"
     ]
    }
   ],
   "source": [
    "# perkalian\n",
    "z = x * y\n",
    "print(z)\n",
    "\n",
    "# pembagian\n",
    "z2 = y / x\n",
    "print(z2)"
   ]
  },
  {
   "cell_type": "markdown",
   "metadata": {},
   "source": [
    "Juga terdapat fungsi yang disediakan PyTorch untuk melakukan perhitungan, sebagai contoh:"
   ]
  },
  {
   "cell_type": "code",
   "execution_count": 20,
   "metadata": {},
   "outputs": [
    {
     "name": "stdout",
     "output_type": "stream",
     "text": [
      "Hasil penjumlahan: tensor([ 7,  9, 11, 13, 15])\n",
      "Hasil pengurangan: tensor([5, 5, 5, 5, 5])\n",
      "Hasil perkalian: tensor([ 6, 14, 24, 36, 50])\n",
      "Hasil pembagian: tensor([6.0000, 3.5000, 2.6667, 2.2500, 2.0000])\n",
      "Hasil akar kuadrat: tensor([1.0000, 1.4142, 1.7321, 2.0000, 2.2361])\n",
      "Hasil eksponen: tensor([  2.7183,   7.3891,  20.0855,  54.5981, 148.4132])\n"
     ]
    }
   ],
   "source": [
    "# torch add\n",
    "z = torch.add(x, y)\n",
    "print(f\"Hasil penjumlahan: {z}\")\n",
    "\n",
    "# torch sub\n",
    "z = torch.sub(y, x)\n",
    "print(f\"Hasil pengurangan: {z}\")\n",
    "\n",
    "# torch mul\n",
    "z = torch.mul(x, y)\n",
    "print(f\"Hasil perkalian: {z}\")\n",
    "\n",
    "# torch div\n",
    "z2 = torch.div(y, x)\n",
    "print(f\"Hasil pembagian: {z2}\")\n",
    "\n",
    "# torch sqrt\n",
    "z3 = torch.sqrt(x)\n",
    "print(f\"Hasil akar kuadrat: {z3}\")\n",
    "\n",
    "# torch exp\n",
    "z4 = torch.exp(x)\n",
    "print(f\"Hasil eksponen: {z4}\")\n",
    "\n"
   ]
  },
  {
   "cell_type": "markdown",
   "metadata": {},
   "source": [
    "### Perkalian Matrix\n",
    "\n",
    "Operasi yang akan sangat sering ditemui ketika kita melakukan operasi tensor adalah perkalian matrix. Kita dapat melakukan perkalian matrix dengan menggunakan fungsi `torch.matmul()`."
   ]
  },
  {
   "cell_type": "code",
   "execution_count": 21,
   "metadata": {},
   "outputs": [
    {
     "name": "stdout",
     "output_type": "stream",
     "text": [
      "Hasil perkalian matrix:\n",
      "tensor([[ 58,  64],\n",
      "        [139, 154]])\n"
     ]
    }
   ],
   "source": [
    "# Contoh perkalian matrix\n",
    "x = torch.tensor([[1, 2, 3], [4, 5, 6]])\n",
    "y = torch.tensor([[7, 8], [9, 10], [11, 12]])\n",
    "z = torch.matmul(x, y)\n",
    "print(f\"Hasil perkalian matrix:\\n{z}\")"
   ]
  },
  {
   "cell_type": "markdown",
   "metadata": {},
   "source": [
    "aturan untuk perkalian matrix adalah sebagai berikut:\n",
    "- Jumlah kolom pada matrix pertama harus sama dengan jumlah baris pada matrix kedua\n",
    "- Jumlah baris pada matrix pertama harus sama dengan jumlah kolom pada matrix kedua\n",
    "\n",
    "Apabila perkalian matrix tidak memenuhi ketentuan diatas, maka dapat dilihat seperti contoh di bawah ini:\n",
    "\n",
    "```\n",
    "x = torch.tensor([[1, 2, 3], [4, 5, 6]])\n",
    "y = torch.tensor([[1, 2], [3, 4], [5, 6]])\n",
    "z = torch.matmul(x, y)\n",
    "```"
   ]
  },
  {
   "cell_type": "markdown",
   "metadata": {},
   "source": [
    "Perlu diperhatikan bahwa terdapat perbedaan antara element-wise multiplication dan matrix multiplication. Element-wise multiplication dilakukan dengan menggunakan operator `*` atau fungsi `torch.mul()`. Sedangkan matrix multiplication dilakukan dengan menggunakan fungsi `torch.matmul()`.\n",
    "\n",
    "Element-wise multiplication adalah perkalian antara masing-masing elemen pada tensor. Sementara itu matrix multiplication adalah perkalian antara masing-masing baris pada matrix pertama dengan masing-masing kolom pada matrix kedua. Perhatikan contoh berikut ini:\n",
    "\n",
    "> **Catatan**\n",
    "> Lain hasilnya dengan Dot Product. Dot product adalah istilah yang kerap digunakan pada deep learning. Dot product adalah operasi yang dilakukan pada dua buah vektor. Hasil dari dot product adalah sebuah bilangan real. Dot product dapat dilakukan dengan menggunakan fungsi `torch.dot()`."
   ]
  },
  {
   "cell_type": "code",
   "execution_count": 22,
   "metadata": {},
   "outputs": [
    {
     "name": "stdout",
     "output_type": "stream",
     "text": [
      "Hasil perkalian element wise:\n",
      "tensor([[ 7, 16, 27],\n",
      "        [40, 55, 72]])\n",
      "Hasil perkalian matrix:\n",
      "tensor([[ 58,  64],\n",
      "        [139, 154]])\n",
      "Hasil dot product:\n",
      "32\n"
     ]
    }
   ],
   "source": [
    "# contoh element wise multiplication\n",
    "x = torch.tensor([[1, 2, 3], [4, 5, 6]])\n",
    "y = torch.tensor([[7, 8, 9], [10, 11, 12]])\n",
    "\n",
    "z = x * y\n",
    "print(f\"Hasil perkalian element wise:\\n{z}\")\n",
    "\n",
    "# contoh matrix multiplication\n",
    "x = torch.tensor([[1, 2, 3], [4, 5, 6]])\n",
    "y = torch.tensor([[7, 8], [9, 10], [11, 12]])\n",
    "z = torch.matmul(x, y)\n",
    "print(f\"Hasil perkalian matrix:\\n{z}\")\n",
    "\n",
    "# contoh dot product\n",
    "x = torch.tensor([1, 2, 3])\n",
    "y = torch.tensor([4, 5, 6])\n",
    "z = torch.dot(x, y)\n",
    "print(f\"Hasil dot product:\\n{z}\")"
   ]
  },
  {
   "cell_type": "markdown",
   "metadata": {},
   "source": [
    "Apa yang terjadi jika perkalian matrix dilakukan terhadap dua buah tensor yang memiliki jumlah baris dan kolom yang sama? Lihat contoh error di bawah ini:"
   ]
  },
  {
   "cell_type": "code",
   "execution_count": 23,
   "metadata": {},
   "outputs": [
    {
     "name": "stdout",
     "output_type": "stream",
     "text": [
      "Tensor X:\n",
      "tensor([[1, 2, 3],\n",
      "        [4, 5, 6]])\n",
      "Tensor Y:\n",
      "tensor([[ 7,  8,  9],\n",
      "        [10, 11, 12]])\n",
      "Kedua tensor memiliki ukuran: torch.Size([2, 3])\n"
     ]
    }
   ],
   "source": [
    "tensor_X = torch.tensor([[1, 2, 3], [4, 5, 6]])\n",
    "tensor_Y = torch.tensor([[7, 8, 9], [10, 11, 12]])\n",
    "\n",
    "print(f\"Tensor X:\\n{tensor_X}\")\n",
    "print(f\"Tensor Y:\\n{tensor_Y}\")\n",
    "print(f\"Kedua tensor memiliki ukuran: {tensor_X.shape}\")"
   ]
  },
  {
   "cell_type": "code",
   "execution_count": 24,
   "metadata": {},
   "outputs": [
    {
     "name": "stdout",
     "output_type": "stream",
     "text": [
      "Error: mat1 and mat2 shapes cannot be multiplied (2x3 and 2x3)\n"
     ]
    }
   ],
   "source": [
    "# mencoba mengalikan tensor_X dengan tensor_Y\n",
    "try:\n",
    "    tensor_Z = torch.matmul(tensor_X, tensor_Y)\n",
    "except Exception as e:\n",
    "    print(f\"Error: {e}\")"
   ]
  },
  {
   "cell_type": "markdown",
   "metadata": {},
   "source": [
    "Untuk mengatasi error di atas, dapat dilakukan operasi transpose terhadap salah satu tensor\n",
    "\n",
    "### Operasi Transpose\n",
    "\n",
    "Operasi transpose pada tensor dapat dilakukan dengan menggunakan fungsi `torch.t()`."
   ]
  },
  {
   "cell_type": "code",
   "execution_count": 25,
   "metadata": {},
   "outputs": [
    {
     "name": "stdout",
     "output_type": "stream",
     "text": [
      "Tensor X sebelum di transpose:\n",
      "tensor([[1, 2, 3],\n",
      "        [4, 5, 6]])\n",
      "Tensor X setelah di transpose:\n",
      "tensor([[1, 4],\n",
      "        [2, 5],\n",
      "        [3, 6]])\n",
      "Hasil perkalian tensor_X dengan tensor_Y:\n",
      "tensor([[47, 52, 57],\n",
      "        [64, 71, 78],\n",
      "        [81, 90, 99]])\n"
     ]
    }
   ],
   "source": [
    "# transpose tensor X\n",
    "print(f\"Tensor X sebelum di transpose:\\n{tensor_X}\")\n",
    "tensor_X = torch.transpose(tensor_X, 0, 1)\n",
    "print(f\"Tensor X setelah di transpose:\\n{tensor_X}\")\n",
    "\n",
    "# perkalian tensor_X dengan tensor_Y\n",
    "tensor_Z = torch.matmul(tensor_X, tensor_Y)\n",
    "print(f\"Hasil perkalian tensor_X dengan tensor_Y:\\n{tensor_Z}\")\n"
   ]
  },
  {
   "cell_type": "code",
   "execution_count": 26,
   "metadata": {},
   "outputs": [
    {
     "name": "stdout",
     "output_type": "stream",
     "text": [
      "Hasil perkalian tensor_X dengan tensor_Y:\n",
      "tensor([[47, 52, 57],\n",
      "        [64, 71, 78],\n",
      "        [81, 90, 99]])\n"
     ]
    }
   ],
   "source": [
    "# torch.matmul() juga dapat disingkat menjadi torch.mm()\n",
    "tensor_Z = torch.mm(tensor_X, tensor_Y)\n",
    "print(f\"Hasil perkalian tensor_X dengan tensor_Y:\\n{tensor_Z}\")"
   ]
  },
  {
   "cell_type": "markdown",
   "metadata": {},
   "source": [
    "Ilustrasi secara visual dapat dilihat pada gambar di bawah ini:\n",
    "\n",
    "<div align=\"center\">\n",
    "<img src = \"https://raw.githubusercontent.com/mrdbourke/pytorch-deep-learning/main/images/00-matrix-multiply-crop.gif\" width=600>\n",
    "\n",
    "</div>\n",
    "\n",
    "_Sumber: [Mrdbourke Github](https://github.com/mrdbourke/pytorch-deep-learning/)_\n",
    "\n",
    "## Min Max Mean Sum dan kawan-kawan\n",
    "\n",
    "PyTorch juga menyediakan fungsi-fungsi untuk melakukan operasi min, max, mean, dan sum pada tensor. Fungsi-fungsi tersebut dapat dilihat pada contoh di bawah ini:"
   ]
  },
  {
   "cell_type": "code",
   "execution_count": 27,
   "metadata": {},
   "outputs": [
    {
     "name": "stdout",
     "output_type": "stream",
     "text": [
      "Nilai minimum dari tensor_X: 1.0\n",
      "Nilai maksimum dari tensor_X: 6.0\n",
      "Nilai rata-rata dari tensor_X: 3.5\n",
      "Nilai total dari tensor_X: 21.0\n",
      "Nilai index minimum dari tensor_X: 0\n",
      "Nilai index maksimum dari tensor_X: 5\n",
      "Nilai absolut dari tensor_X: tensor([1, 2, 3, 4])\n",
      "Nilai total perkalian dari tensor_X: 720.0\n",
      "Nilai akar kuadrat dari tensor_X: tensor([1., 2., 3., 4., 5.])\n",
      "Nilai eksponen dari tensor_X: tensor([ 2.7183,  7.3891, 20.0855])\n",
      "Nilai logaritma dari tensor_X: tensor([0.0000, 1.0000, 2.0000])\n"
     ]
    }
   ],
   "source": [
    "tensor_X = torch.tensor([[1, 2, 3], [4, 5, 6]]).float()\n",
    "\n",
    "# contoh min\n",
    "contoh_min = torch.min(tensor_X)\n",
    "print(f\"Nilai minimum dari tensor_X: {contoh_min}\")\n",
    "\n",
    "# contoh max\n",
    "contoh_max = torch.max(tensor_X)\n",
    "print(f\"Nilai maksimum dari tensor_X: {contoh_max}\")\n",
    "\n",
    "# contoh mean\n",
    "contoh_mean = torch.mean(tensor_X)\n",
    "print(f\"Nilai rata-rata dari tensor_X: {contoh_mean}\")\n",
    "\n",
    "# contoh sum\n",
    "contoh_sum = torch.sum(tensor_X)\n",
    "print(f\"Nilai total dari tensor_X: {contoh_sum}\")\n",
    "\n",
    "# contoh argmin\n",
    "contoh_argmin = torch.argmin(tensor_X)\n",
    "print(f\"Nilai index minimum dari tensor_X: {contoh_argmin}\")\n",
    "\n",
    "# contoh argmax\n",
    "contoh_argmax = torch.argmax(tensor_X)\n",
    "print(f\"Nilai index maksimum dari tensor_X: {contoh_argmax}\")\n",
    "\n",
    "# contoh abs\n",
    "contoh_abs = torch.abs(torch.tensor([-1, -2, 3, 4]))\n",
    "print(f\"Nilai absolut dari tensor_X: {contoh_abs}\")\n",
    "\n",
    "# contoh prod\n",
    "contoh_prod = torch.prod(tensor_X)\n",
    "print(f\"Nilai total perkalian dari tensor_X: {contoh_prod}\")\n",
    "\n",
    "# contoh sqrt\n",
    "contoh_sqrt = torch.sqrt(torch.tensor([1, 4, 9, 16, 25]))\n",
    "print(f\"Nilai akar kuadrat dari tensor_X: {contoh_sqrt}\")\n",
    "\n",
    "# contoh exp\n",
    "contoh_exp = torch.exp(torch.tensor([1, 2, 3]))\n",
    "print(f\"Nilai eksponen dari tensor_X: {contoh_exp}\")\n",
    "\n",
    "# contoh log\n",
    "contoh_log = torch.log(torch.tensor([1, 2.7183, 7.3891]))\n",
    "print(f\"Nilai logaritma dari tensor_X: {contoh_log}\")"
   ]
  },
  {
   "cell_type": "markdown",
   "metadata": {},
   "source": [
    "## Mengubah bentuk dan dimensi tensor\n",
    "\n",
    "Operasi mengubah dimensi ini akan sangat sering kita temui ketika kita melakukan operasi pada tensor. Beberapa fungsi yang kerap digunakan antara lain sebagai berikut\n",
    "\n",
    "### Reshape"
   ]
  },
  {
   "cell_type": "code",
   "execution_count": 28,
   "metadata": {},
   "outputs": [
    {
     "name": "stdout",
     "output_type": "stream",
     "text": [
      "Tensor X sebelum di reshape:\n",
      "tensor([[1, 2, 3],\n",
      "        [4, 5, 6]]) | Shape: torch.Size([2, 3])\n",
      "Tensor X setelah di reshape:\n",
      "tensor([[1, 2],\n",
      "        [3, 4],\n",
      "        [5, 6]]) | Shape: torch.Size([3, 2])\n"
     ]
    }
   ],
   "source": [
    "# contoh penggunaan reshape\n",
    "tensor_X = torch.tensor([[1, 2, 3], [4, 5, 6]])\n",
    "print(f\"Tensor X sebelum di reshape:\\n{tensor_X} | Shape: {tensor_X.shape}\")\n",
    "tensor_X = tensor_X.reshape(3, 2)\n",
    "print(f\"Tensor X setelah di reshape:\\n{tensor_X} | Shape: {tensor_X.shape}\")"
   ]
  },
  {
   "cell_type": "markdown",
   "metadata": {},
   "source": [
    "**Penjelasan:**\n",
    "\n",
    "Fungsi `torch.reshape()` digunakan untuk mengubah bentuk dari tensor. Bentuk dari tensor dapat diubah dengan memasukkan nilai baru untuk parameter `shape` pada fungsi `torch.reshape()`. Parameter `shape` merupakan tuple yang berisi nilai untuk dimensi baru dari tensor.\n",
    "\n",
    "Dalam contoh di atas pada awalnya tensor `x` memiliki bentuk `(2, 3)`. Setelah dilakukan reshape, tensor `x` memiliki bentuk `(3, 2)`.\n",
    "\n",
    "### Tensor.View\n",
    "\n",
    "Tensor.view() adalah fungsi yang mirip dengan fungsi `torch.reshape()`. Perbedaannya adalah fungsi `torch.view()` hanya mengubah tampilan dari tensor dengan tetap mempertahankan bentuk dari tensor pada memori. Sedangkan fungsi `torch.reshape()` mengubah bentuk dari tensor."
   ]
  },
  {
   "cell_type": "code",
   "execution_count": 29,
   "metadata": {},
   "outputs": [
    {
     "name": "stdout",
     "output_type": "stream",
     "text": [
      "Tensor X sebelum di reshape:\n",
      "tensor([[1, 2, 3],\n",
      "        [4, 5, 6]]) | Shape: torch.Size([2, 3])\n",
      "Tensor X setelah di reshape:\n",
      "tensor([[1, 2],\n",
      "        [3, 4],\n",
      "        [5, 6]]) | Shape: torch.Size([3, 2])\n"
     ]
    }
   ],
   "source": [
    "# contoh penggunaan Tensor.view()\n",
    "tensor_X = torch.tensor([[1, 2, 3], [4, 5, 6]])\n",
    "print(f\"Tensor X sebelum di reshape:\\n{tensor_X} | Shape: {tensor_X.shape}\")\n",
    "tensor_X = tensor_X.view(3, 2)\n",
    "print(f\"Tensor X setelah di reshape:\\n{tensor_X} | Shape: {tensor_X.shape}\")"
   ]
  },
  {
   "cell_type": "markdown",
   "metadata": {},
   "source": [
    "### Stack\n",
    "\n",
    "Fungsi `torch.stack()` digunakan untuk menggabungkan dua buah tensor. Fungsi ini akan menggabungkan dua buah tensor dengan dimensi yang sama. Fungsi ini akan menambahkan dimensi baru pada tensor yang akan digabungkan. Fungsi ini akan menghasilkan tensor baru dengan dimensi yang lebih tinggi."
   ]
  },
  {
   "cell_type": "code",
   "execution_count": 30,
   "metadata": {},
   "outputs": [
    {
     "name": "stdout",
     "output_type": "stream",
     "text": [
      "Hasil stack:\n",
      "tensor([[1, 4],\n",
      "        [2, 5],\n",
      "        [3, 6]]) | Shape: torch.Size([3, 2])\n"
     ]
    }
   ],
   "source": [
    "# contoh stack\n",
    "tensor_X = torch.tensor([1, 4])\n",
    "tensor_Y = torch.tensor([2, 5])\n",
    "tensor_Z = torch.tensor([3, 6])\n",
    "\n",
    "tensor_3D = torch.stack((tensor_X, tensor_Y, tensor_Z))\n",
    "print(f\"Hasil stack:\\n{tensor_3D} | Shape: {tensor_3D.shape}\")"
   ]
  },
  {
   "cell_type": "markdown",
   "metadata": {},
   "source": [
    "### Squeeze\n",
    "\n",
    "Fungsi `torch.squeeze()` digunakan untuk menghilangkan dimensi yang memiliki nilai 1 pada tensor. Fungsi ini akan menghasilkan tensor baru dengan dimensi yang lebih rendah."
   ]
  },
  {
   "cell_type": "code",
   "execution_count": 31,
   "metadata": {},
   "outputs": [
    {
     "name": "stdout",
     "output_type": "stream",
     "text": [
      "Tensor X sebelum di squeeze:\n",
      "tensor([[[0, 1],\n",
      "         [1, 2],\n",
      "         [2, 3]]]) | Shape: torch.Size([1, 3, 2])\n",
      "Tensor X setelah di squeeze:\n",
      "tensor([[0, 1],\n",
      "        [1, 2],\n",
      "        [2, 3]]) | Shape: torch.Size([3, 2])\n"
     ]
    }
   ],
   "source": [
    "# Contoh penggunaan squeeze\n",
    "tensor_X = torch.tensor([[[0,1], [1,2], [2,3]]])\n",
    "print(f\"Tensor X sebelum di squeeze:\\n{tensor_X} | Shape: {tensor_X.shape}\")\n",
    "tensor_X = torch.squeeze(tensor_X)\n",
    "print(f\"Tensor X setelah di squeeze:\\n{tensor_X} | Shape: {tensor_X.shape}\")"
   ]
  },
  {
   "cell_type": "markdown",
   "metadata": {},
   "source": [
    "### Unsqueeze\n",
    "Adalah kebalikan dari fungsi `torch.squeeze()`. Fungsi `torch.unsqueeze()` digunakan untuk menambahkan dimensi baru pada tensor. Fungsi ini akan menghasilkan tensor baru dengan dimensi yang lebih tinggi."
   ]
  },
  {
   "cell_type": "code",
   "execution_count": 32,
   "metadata": {},
   "outputs": [
    {
     "name": "stdout",
     "output_type": "stream",
     "text": [
      "Tensor X sebelum di unsqueeze:\n",
      "tensor([[0, 1],\n",
      "        [1, 2],\n",
      "        [2, 3]]) | Shape: torch.Size([3, 2])\n",
      "Tensor X setelah di unsqueeze:\n",
      "tensor([[[0, 1],\n",
      "         [1, 2],\n",
      "         [2, 3]]]) | Shape: torch.Size([1, 3, 2])\n"
     ]
    }
   ],
   "source": [
    "print(f\"Tensor X sebelum di unsqueeze:\\n{tensor_X} | Shape: {tensor_X.shape}\")\n",
    "tensor_X = torch.unsqueeze(tensor_X, 0)\n",
    "print(f\"Tensor X setelah di unsqueeze:\\n{tensor_X} | Shape: {tensor_X.shape}\")"
   ]
  },
  {
   "cell_type": "markdown",
   "metadata": {},
   "source": [
    "### Permute\n",
    "\n",
    "Fungsi `torch.permute()` digunakan untuk mengubah dimensi dari tensor. Fungsi ini akan mengubah dimensi dari tensor dengan memasukkan nilai baru untuk parameter `dims` pada fungsi `torch.permute()`. Parameter `dims` merupakan tuple yang berisi nilai untuk dimensi baru dari tensor."
   ]
  },
  {
   "cell_type": "code",
   "execution_count": 33,
   "metadata": {},
   "outputs": [
    {
     "name": "stdout",
     "output_type": "stream",
     "text": [
      "Tensor X sebelum di permute:\n",
      "tensor([[[0, 1],\n",
      "         [1, 2],\n",
      "         [2, 3]]]) | Shape: torch.Size([1, 3, 2])\n",
      "Tensor X setelah di permute:\n",
      "tensor([[[0, 1, 2]],\n",
      "\n",
      "        [[1, 2, 3]]]) | Shape: torch.Size([2, 1, 3])\n"
     ]
    }
   ],
   "source": [
    "# contoh penggunaan permute\n",
    "tensor_X = torch.tensor([[[0,1], [1,2], [2,3]]])\n",
    "print(f\"Tensor X sebelum di permute:\\n{tensor_X} | Shape: {tensor_X.shape}\")\n",
    "tensor_X = tensor_X.permute(2, 0, 1)\n",
    "print(f\"Tensor X setelah di permute:\\n{tensor_X} | Shape: {tensor_X.shape}\")"
   ]
  },
  {
   "cell_type": "markdown",
   "metadata": {},
   "source": [
    "**Penjelasan:**\n",
    "\n",
    "Argumen pada permute() adalah dimensi baru dari tensor. Argumen dimensi baru harus berjumlah sama dengan jumlah dimensi pada tensor. Argumen dimensi baru harus berisi semua dimensi pada tensor.\n",
    "\n",
    "Pada contoh diatas awalnya tensor memiliki dimensi `(1, 3, 2)`. Kemudian, argumen yang diberikan pada operasi permute adalah `(2, 0, 1)`. Artinya, dimensi pertama (indeks ke-0) dari tensor yang baru adalah dimensi ketiga (indeks ke-2) dari tensor yang lama. Dimensi kedua (indeks ke-1) dari tensor yang baru adalah dimensi pertama (indeks ke-0) dari tensor yang lama. Dimensi ketiga (indeks ke-2) dari tensor yang baru adalah dimensi kedua (indeks ke-1) dari tensor yang lama.\n",
    "\n",
    "## Konversi dari dan ke Numpy\n",
    "\n",
    "PyTorch menyediakan fungsi untuk melakukan konversi dari dan ke Numpy. Numpy adalah library yang sering digunakan untuk melakukan operasi pada data numerik. Fungsi-fungsi yang digunakan untuk melakukan konversi antara PyTorch dan Numpy adalah sebagai berikut:\n",
    "\n",
    "### From Numpy"
   ]
  },
  {
   "cell_type": "code",
   "execution_count": 34,
   "metadata": {},
   "outputs": [
    {
     "name": "stdout",
     "output_type": "stream",
     "text": [
      "Array numpy: [1 2 3] | Type: <class 'numpy.ndarray'>\n",
      "Tensor X: tensor([1, 2, 3]) | Type: <class 'torch.Tensor'>\n"
     ]
    }
   ],
   "source": [
    "import numpy as np\n",
    "\n",
    "# contoh penggunaan torch.from_numpy()\n",
    "numpy_array = np.array([1, 2, 3])\n",
    "print(f\"Array numpy: {numpy_array} | Type: {type(numpy_array)}\")\n",
    "\n",
    "tensor_X = torch.from_numpy(numpy_array)\n",
    "print(f\"Tensor X: {tensor_X} | Type: {type(tensor_X)}\")"
   ]
  },
  {
   "cell_type": "markdown",
   "metadata": {},
   "source": [
    "### Numpy to Tensor"
   ]
  },
  {
   "cell_type": "code",
   "execution_count": 35,
   "metadata": {},
   "outputs": [
    {
     "name": "stdout",
     "output_type": "stream",
     "text": [
      "Tensor X: tensor([1, 2, 3]) | Type: <class 'torch.Tensor'>\n",
      "Array numpy: [1 2 3] | Type: <class 'numpy.ndarray'>\n"
     ]
    }
   ],
   "source": [
    "# contoh penggunaan tensor.numpy()\n",
    "\n",
    "tensor_X = torch.tensor([1, 2, 3])\n",
    "print(f\"Tensor X: {tensor_X} | Type: {type(tensor_X)}\")\n",
    "\n",
    "numpy_array = tensor_X.numpy()\n",
    "print(f\"Array numpy: {numpy_array} | Type: {type(numpy_array)}\")"
   ]
  },
  {
   "cell_type": "markdown",
   "metadata": {},
   "source": [
    "## Reproducibility\n",
    "\n",
    "Seperti yang kamu ketahui, ketika kita melakukan operasi pada tensor, maka hasil dari operasi tersebut akan berbeda setiap kali kita menjalankan kode tersebut. Hal ini disebabkan karena PyTorch menggunakan fungsi-fungsi yang memiliki nilai acak.\n",
    "\n",
    "Perhatikan contoh kode di bawah ini:"
   ]
  },
  {
   "cell_type": "code",
   "execution_count": 36,
   "metadata": {},
   "outputs": [
    {
     "name": "stdout",
     "output_type": "stream",
     "text": [
      "Tensor X:\n",
      "tensor([[0.0569, 0.0166, 0.4266],\n",
      "        [0.9171, 0.6317, 0.0874],\n",
      "        [0.4841, 0.3089, 0.9260]])\n"
     ]
    }
   ],
   "source": [
    "# contoh random\n",
    "tensor_X = torch.rand(3, 3)\n",
    "print(f\"Tensor X:\\n{tensor_X}\")"
   ]
  },
  {
   "cell_type": "markdown",
   "metadata": {},
   "source": [
    "Coba jalankan kembali kode di atas. Hasilnya akan berbeda setiap kali kita menjalankan kode tersebut. Hal ini disebabkan karena fungsi `torch.rand()` menghasilkan nilai acak.\n",
    "\n",
    "**Lalu bagaimana cara agar hasil dari operasi tersebut tetap sama setiap kali kita menjalankan kode tersebut?**\n",
    "\n",
    "Perhatikan contoh kode di bawah ini:"
   ]
  },
  {
   "cell_type": "code",
   "execution_count": 37,
   "metadata": {},
   "outputs": [
    {
     "name": "stdout",
     "output_type": "stream",
     "text": [
      "Tensor X:\n",
      "tensor([[0.0290, 0.4019, 0.2598],\n",
      "        [0.3666, 0.0583, 0.7006],\n",
      "        [0.0518, 0.4681, 0.6738]])\n"
     ]
    }
   ],
   "source": [
    "# contoh seed\n",
    "torch.manual_seed(1234)\n",
    "tensor_X = torch.rand(3, 3)\n",
    "print(f\"Tensor X:\\n{tensor_X}\")"
   ]
  },
  {
   "cell_type": "markdown",
   "metadata": {},
   "source": [
    "Sekarang, coba jalankan kemudian kode di atas. Hasilnya akan sama setiap kali kita menjalankan kode tersebut. Hal ini disebabkan karena kita telah menetapkan nilai acak yang digunakan oleh fungsi `torch.rand()` dengan menggunakan fungsi `torch.manual_seed()`.\n",
    "\n",
    "Kamu dapat menetapkan nilai acak yang digunakan dengan memasukkan nilai integer pada fungsi `torch.manual_seed()`. Nilai integer yang digunakan harus sama setiap kali kita menjalankan kode tersebut."
   ]
  },
  {
   "cell_type": "markdown",
   "metadata": {},
   "source": [
    "## Menggunakan GPU\n",
    "\n",
    "PyTorch dapat digunakan untuk melakukan operasi pada GPU. Dengan menggunakan GPU kita dapat melakukan operasi dengan lebih cepat. Untuk menggunakan GPU, kita harus menginstall PyTorch dengan GPU support. Untuk menginstall PyTorch dengan GPU support, kamu dapat mengikuti langkah-langkah pada [link](pytorch.org/get-started/locall...) ini.\n",
    "\n",
    "Setelah itu pastikan bahwa kamu telah menginstall CUDA dan CUDNN. Untuk menginstall CUDA dan CUDNN, kamu dapat mengikuti langkah-langkah pada [link](pytorch.org/get-started/locall...) ini.\n",
    "\n",
    "Untuk memastikan bahwa kamu telah memiliki GPU dan sudah menginstall CUDA dan CUDNN, kamu dapat menjalankan kode di bawah ini:"
   ]
  },
  {
   "cell_type": "code",
   "execution_count": 38,
   "metadata": {},
   "outputs": [
    {
     "name": "stdout",
     "output_type": "stream",
     "text": [
      "Thu Dec  8 15:24:16 2022       \n",
      "+-----------------------------------------------------------------------------+\n",
      "| NVIDIA-SMI 515.43.04    Driver Version: 515.43.04    CUDA Version: 11.7     |\n",
      "|-------------------------------+----------------------+----------------------+\n",
      "| GPU  Name        Persistence-M| Bus-Id        Disp.A | Volatile Uncorr. ECC |\n",
      "| Fan  Temp  Perf  Pwr:Usage/Cap|         Memory-Usage | GPU-Util  Compute M. |\n",
      "|                               |                      |               MIG M. |\n",
      "|===============================+======================+======================|\n",
      "|   0  NVIDIA GeForce ...  On   | 00000000:01:00.0  On |                  N/A |\n",
      "| 56%   65C    P2   186W / 200W |   7210MiB / 11264MiB |     89%      Default |\n",
      "|                               |                      |                  N/A |\n",
      "+-------------------------------+----------------------+----------------------+\n",
      "                                                                               \n",
      "+-----------------------------------------------------------------------------+\n",
      "| Processes:                                                                  |\n",
      "|  GPU   GI   CI        PID   Type   Process name                  GPU Memory |\n",
      "|        ID   ID                                                   Usage      |\n",
      "|=============================================================================|\n",
      "|    0   N/A  N/A      2755      G   /usr/lib/xorg/Xorg                210MiB |\n",
      "|    0   N/A  N/A      2930      G   /usr/bin/gnome-shell               61MiB |\n",
      "|    0   N/A  N/A     70730      G   ...RendererForSitePerProcess       19MiB |\n",
      "|    0   N/A  N/A    905395      G   ...167311246520674684,131072      273MiB |\n",
      "|    0   N/A  N/A    906009      G   ...RendererForSitePerProcess       67MiB |\n",
      "|    0   N/A  N/A    909102      G   ...AAAAAAAAA= --shared-files       25MiB |\n",
      "|    0   N/A  N/A   1010460      C   python                           6545MiB |\n",
      "+-----------------------------------------------------------------------------+\n"
     ]
    }
   ],
   "source": [
    "!nvidia-smi"
   ]
  },
  {
   "cell_type": "markdown",
   "metadata": {},
   "source": [
    "Jika kode tersebut berhasil dijalankan maka kamu telah memiliki GPU dan sudah menginstall CUDA dan CUDNN.\n",
    "\n",
    "> **Catatan:**\n",
    "Jika kamu menggunakan Google Colab, Kaggle, atau Paperspace, pastikan kamu telah mengaktifkan GPU pada notebook tersebut.\n",
    "\n",
    "Untuk menggunakan GPU pada PyTorch, kamu dapat melihatnya pada contoh di bawah ini:"
   ]
  },
  {
   "cell_type": "code",
   "execution_count": 39,
   "metadata": {},
   "outputs": [
    {
     "name": "stdout",
     "output_type": "stream",
     "text": [
      "Tersedia GPU\n"
     ]
    }
   ],
   "source": [
    "# contoh penggunaan GPU\n",
    "import torch\n",
    "if torch.cuda.is_available():\n",
    "    device = torch.device(\"cuda\")\n",
    "    print(\"Tersedia GPU\")\n",
    "elif torch.backends.mps.is_available():\n",
    "    device = torch.device(\"mps\")\n",
    "    print(\"Tersedia MPS Apple Silicon\")\n",
    "else:\n",
    "    device = torch.device(\"cpu\")\n",
    "    print(\"Tersedia CPU\")"
   ]
  },
  {
   "cell_type": "markdown",
   "metadata": {},
   "source": [
    "**Penjelasan:**\n",
    "- `torch.device` digunakan untuk mendefinisikan device yang akan digunakan. Pada contoh di atas, kita menggunakan `torch.device(\"cuda\")` untuk menggunakan GPU.\n",
    "- Namun pada program diatas, saya memberikan alternatif lain apabila kamu tidak memiliki GPU NVIDIA. Misalnya kamu menggunakan Apple Silicon (Apple M1 atau M2), maka kamu dapat menggunakan `torch.device(\"mps\")`.\n",
    "- Kalau kamu menggunakan CPU, maka kamu dapat menggunakan `torch.device(\"cpu\")`.\n",
    "\n",
    "Kamu juga dapat mengecek berapa banyak GPU yang kamu miliki dengan menggunakan kode di bawah ini:"
   ]
  },
  {
   "cell_type": "code",
   "execution_count": 40,
   "metadata": {},
   "outputs": [
    {
     "data": {
      "text/plain": [
       "1"
      ]
     },
     "execution_count": 40,
     "metadata": {},
     "output_type": "execute_result"
    }
   ],
   "source": [
    "torch.cuda.device_count()"
   ]
  },
  {
   "cell_type": "markdown",
   "metadata": {},
   "source": [
    "### Memindahkan Tensor ke GPU"
   ]
  },
  {
   "cell_type": "markdown",
   "metadata": {},
   "source": [
    "Kamu dapat memindahkan tensor ke memori GPU dengan menggunakan kode di bawah ini sehingga perhitungan dan proses dapat dilakukan lebih cepat."
   ]
  },
  {
   "cell_type": "code",
   "execution_count": 41,
   "metadata": {},
   "outputs": [
    {
     "name": "stdout",
     "output_type": "stream",
     "text": [
      "Tensor: tensor([1, 2, 3, 4, 5]) | Tensor Device: cpu\n"
     ]
    }
   ],
   "source": [
    "tensor = torch.tensor([1, 2, 3, 4, 5])\n",
    "print(f\"Tensor: {tensor} | Tensor Device: {tensor.device}\")"
   ]
  },
  {
   "cell_type": "code",
   "execution_count": 42,
   "metadata": {},
   "outputs": [
    {
     "name": "stdout",
     "output_type": "stream",
     "text": [
      "Tensor: tensor([1, 2, 3, 4, 5], device='cuda:0') | Tensor Device: cuda:0\n"
     ]
    }
   ],
   "source": [
    "# memindahkan tensor ke GPU\n",
    "tensor = tensor.to(device)\n",
    "print(f\"Tensor: {tensor} | Tensor Device: {tensor.device}\")"
   ]
  },
  {
   "cell_type": "markdown",
   "metadata": {},
   "source": [
    "### Memindahkan Tensor ke CPU kembali\n",
    "\n",
    "Kamu dapat memindahkan tensor dari memori GPU ke memori CPU dengan menggunakan kode di bawah ini."
   ]
  },
  {
   "cell_type": "code",
   "execution_count": 43,
   "metadata": {},
   "outputs": [
    {
     "name": "stdout",
     "output_type": "stream",
     "text": [
      "Tensor: tensor([1, 2, 3, 4, 5]) | Tensor Device: cpu\n"
     ]
    }
   ],
   "source": [
    "# memindahkan tensor ke CPU\n",
    "tensor = tensor.cpu()\n",
    "print(f\"Tensor: {tensor} | Tensor Device: {tensor.device}\")"
   ]
  },
  {
   "cell_type": "markdown",
   "metadata": {},
   "source": [
    "---\n",
    "## Latihan Modul 00. Pengantar\n",
    "\n",
    "1. Buatlah sebuah tensor bernama `tensor_x` dengan menggunakan fungsi `torch.rand()` dengan ukuran 3x3. Kemudian cetak nilai dari `tensor_x` beserta tipe datanya dan dimensinya.\n",
    "\n",
    "2. Buatlah sebuah tensor bernama `tensor_y` dengan menggunakan fungsi `torch.rand()` dengan ukuran 3x3. Kemudian cetak nilai dari `tensor_y` beserta nilai maksimum dan minimumnya.\n",
    "\n",
    "3. Lakukanlah operasi penjumlahan dan pengurangan antara `tensor_x` dan `tensor_y`. Simpan hasilnya pada variabel `tensor_sum` dan `tensor_sub`.\n",
    "\n",
    "4. Lakukan operasi perkalian matrix antara `tensor_x` dan `tensor_y`. Simpan hasilnya pada variabel `tensor_mul`. Lalu lakukan operasi transpose pada `tensor_mul`. Simpan hasilnya pada variabel `tensor_transpose`.\n",
    "\n",
    "5. Ubah dimensi dari `tensor_transpose` menjadi 1x9 menggunakan reshape. Simpan hasilnya pada variabel `tensor_reshape`.\n",
    "\n",
    "6. Buat sebuah tensor random dengan random seed 42 bernama `tensor_random` dengan ukuran 3x3. Kemudian cetak nilai dari `tensor_random` beserta nilai maksimum dan minimumnya.\n",
    "\n",
    "7. Pindahkan `tensor_random` ke device GPU. Simpan hasilnya pada variabel `tensor_gpu`. Abaikan bagian ini jika anda tidak memiliki GPU"
   ]
  },
  {
   "cell_type": "markdown",
   "metadata": {},
   "source": [
    "Anda dapat mengerjakan tugas ini dan melihat jawabannya pada [tautan berikut ini](https://github.com/mctosima/belajarpytorch/blob/main/solution/00_Solution.ipynb)"
   ]
  }
 ],
 "metadata": {
  "kernelspec": {
   "display_name": "Python 3.8.15 ('py38belajarpt')",
   "language": "python",
   "name": "python3"
  },
  "language_info": {
   "codemirror_mode": {
    "name": "ipython",
    "version": 3
   },
   "file_extension": ".py",
   "mimetype": "text/x-python",
   "name": "python",
   "nbconvert_exporter": "python",
   "pygments_lexer": "ipython3",
   "version": "3.8.15"
  },
  "orig_nbformat": 4,
  "vscode": {
   "interpreter": {
    "hash": "70e73a41c653c3ff2c4eb4196dfcfae1e64ffcb4fa97f2ff95a868530ad91676"
   }
  }
 },
 "nbformat": 4,
 "nbformat_minor": 2
}
