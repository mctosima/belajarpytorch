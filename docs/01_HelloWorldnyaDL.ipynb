{
 "cells": [
  {
   "cell_type": "markdown",
   "metadata": {},
   "source": [
    "[Source Code Jupyter Notebook](https://github.com/mctosima/belajarpytorch/blob/main/docs/01_HelloWorldnyaDL.ipynb)\n",
    "\n",
    "# 01. Hello-World Ala Deep Learning\n",
    "\n",
    "Pada bagian ini kamu diharapkan mampu:\n",
    "- Memahami _workflow_ training menggunakan PyTorch\n",
    "- Memahami penggunaan _optimizer_ dan _loss function_\n",
    "- Memahami proses training sederhana\n",
    "- Menggunakan model untuk inferensi\n",
    "- Mengukur performa model secara sederhana\n",
    "\n",
    "<div align=\"center\">\n",
    "<img src=\"https://images.contentstack.io/v3/assets/blt71da4c740e00faaa/blt3e9883f5dfd008f4/603039d9cb67827268e09219/saltbae_pytorch.jpg\" width=\"350\"/>\n",
    "</div>\n",
    "\n",
    "> Pada materi kali ini kita akan mencoba membuat model kecil-kecilan untuk memprediksi keluaran dari dua buah masukan berupa boolean. Sederhananya, kita akan membuat model yang mampu memprediksi hasil dari XOR tanpa memberitahu model bahwa operasi ini adalah XOR. Model akan belajar sendiri untuk melakukan operasi XOR.\n",
    "\n",
    "**Tttt.tapi, saya pun tidak tahu apa itu XOR?**\n",
    "\n",
    "Baiklah, jadi begini. XOR adalah operasi logika yang menghasilkan nilai `True` jika salah satu dari dua buah masukan bernilai `True` dan yang satunya bernilai `False`. Jika kedua buah masukan bernilai `True` atau `False`, maka hasilnya adalah `False`.\n",
    "\n",
    "**Masih belum mengerti**\n",
    "\n",
    "Baiklah, berikut ini adalah tabel logika XOR:\n",
    "\n",
    "<div align=\"center\">\n",
    "<img src=\"https://www.researchgate.net/publication/326006336/figure/tbl1/AS:669038808141849@1536522690995/Truth-table-of-the-logical-operator-XOR.png\" width=\"350\"/>\n",
    "</div>\n",
    "\n",
    "Misalkan, jika diberi sebuah masukan X1 berupa 1 dan X2 berupa 0, maka hasil dari operasi XOR adalah 1. Jika diberi masukan X1 berupa 0 dan X2 berupa 0, maka hasil dari operasi XOR adalah 0. Begitu juga sebaliknya. ***Sama jadi 0, beda jadi 1.***\n",
    "\n",
    "## Import Library"
   ]
  },
  {
   "cell_type": "code",
   "execution_count": 1,
   "metadata": {},
   "outputs": [],
   "source": [
    "import torch\n",
    "import torch.nn as nn"
   ]
  },
  {
   "cell_type": "markdown",
   "metadata": {},
   "source": [
    "- `import torch` merupakan library utama yang akan kita gunakan. Library ini berisi fungsi-fungsi yang akan kita gunakan untuk membuat model, menghitung loss, dan melakukan training.\n",
    "- `import torch.nn as nn` merupakan library yang berisi fungsi-fungsi yang akan kita gunakan untuk membuat model.\n",
    "\n",
    "## Mempersiapkan data masukan\n",
    "\n",
    "Kita akan membuat dua buah variabel, `x1` dan `x2` dimana masing-masing akan berisi 50 buah nilai boolean. Kita akan menggunakan `torch.rand` untuk menghasilkan nilai random dari 0 sampai 1."
   ]
  },
  {
   "cell_type": "code",
   "execution_count": 2,
   "metadata": {},
   "outputs": [
    {
     "name": "stdout",
     "output_type": "stream",
     "text": [
      "Input X1:\n",
      "tensor([1, 0, 0, 1, 0, 0, 0, 1, 1, 0, 0, 1, 0, 1, 1, 0, 0, 1, 1, 0, 1, 0, 0, 0,\n",
      "        1, 0, 1, 1, 0, 1, 0, 0, 0, 0, 0, 1, 0, 1, 1, 1, 1, 1, 0, 1, 1, 0, 0, 0,\n",
      "        1, 0])\n",
      "Input X2:\n",
      "tensor([1, 0, 1, 1, 1, 0, 1, 1, 0, 1, 1, 1, 1, 0, 1, 1, 0, 0, 0, 0, 1, 0, 1, 0,\n",
      "        0, 0, 0, 1, 1, 1, 0, 0, 1, 1, 0, 0, 1, 0, 1, 0, 1, 0, 1, 1, 1, 1, 0, 0,\n",
      "        1, 0])\n"
     ]
    }
   ],
   "source": [
    "# membuat variabel x berisi nilai boleean berisi 1 atau 0 sebanyak 50 elemen\n",
    "x1 = torch.randint(0, 2, (50,))\n",
    "x2 = torch.randint(0, 2, (50,))\n",
    "print(f\"Input X1:\\n{x1}\")\n",
    "print(f\"Input X2:\\n{x2}\")"
   ]
  },
  {
   "cell_type": "markdown",
   "metadata": {},
   "source": [
    "Selanjutnya kita menggabungkan `x1` dan `x2` menjadi satu buah variabel `x` dengan menggunakan `torch.stack`. Karena `x1` dan `x2` masing-masing berukuran `(50,)`, maka `x` akan berukuran `(2, 50)`."
   ]
  },
  {
   "cell_type": "code",
   "execution_count": 3,
   "metadata": {},
   "outputs": [],
   "source": [
    "# menggabungkan variabel x1 dan x2 menjadi satu variabel x\n",
    "x = torch.stack((x1, x2), dim=1)"
   ]
  },
  {
   "cell_type": "markdown",
   "metadata": {},
   "source": [
    "Setelah itu, kita akan membuat variabel `y` yang berisi nilai boolean dari hasil operasi XOR dari `x1` dan `x2`. Kita akan menggunakan tanda `^` untuk melakukan operasi XOR. Kamu dapat mencocokkan beberapa contoh masukan dan keluaran sebenarnya (`y`). Misalnya pada indeks-0, `x1` bernilai 1 dan `x2` bernilai 1, maka indeks-0 dari `y` bernilai 0.\n",
    "\n",
    "> **Catatan:** `y` dalam hal ini disebut juga sebagai `label` atau nama lainnya kerap disebut sebagai `ground truth`"
   ]
  },
  {
   "cell_type": "code",
   "execution_count": 4,
   "metadata": {},
   "outputs": [
    {
     "name": "stdout",
     "output_type": "stream",
     "text": [
      "Ground-truth Y:\n",
      "tensor([0, 0, 1, 0, 1, 0, 1, 0, 1, 1, 1, 0, 1, 1, 0, 1, 0, 1, 1, 0, 0, 0, 1, 0,\n",
      "        1, 0, 1, 0, 1, 0, 0, 0, 1, 1, 0, 1, 1, 1, 0, 1, 0, 1, 1, 0, 0, 1, 0, 0,\n",
      "        0, 0])\n"
     ]
    }
   ],
   "source": [
    "# membuat ground-truth dari input x1 dan x2 yang sudah distack pada x\n",
    "y = x[:, 0] ^ x[:, 1]\n",
    "print(f\"Ground-truth Y:\\n{y}\")"
   ]
  },
  {
   "cell_type": "markdown",
   "metadata": {},
   "source": [
    "Selanjutnya, kita akan membagi dataset `x` dan `y` menjadi `train` dan `test`.\n",
    "\n",
    "**Mengapa harus dibagi menjadi train dan test?**\n",
    "- Ketika kita melakukan proses training, label (`y`) akan diberitahu ke model sehingga jawaban sebenarnya akan diketahui model. Namanya juga proses training, tentu model harus tahu jawaban yang benarnya sehingga dia dapat belajar dari kesalahan yang dia buat.\n",
    "- Oleh karena itu tidak adil jika kita menguji apakah model yang kita buat sudah pinter atau belum dengan bahan belajar yang sudah ada kunci jawabannya\n",
    "- Maka dari itu kita menyediakan test data sebagai bahan ujian untuk mengetahui seberapa baik model yang kita buat."
   ]
  },
  {
   "cell_type": "code",
   "execution_count": 5,
   "metadata": {},
   "outputs": [],
   "source": [
    "train_split = int(0.8*len(x))"
   ]
  },
  {
   "cell_type": "code",
   "execution_count": 6,
   "metadata": {},
   "outputs": [],
   "source": [
    "# membagi x menjadi train dan testing\n",
    "x_train = x[:train_split]\n",
    "x_test = x[train_split:]\n",
    "\n",
    "# membagi y menjadi train dan testing\n",
    "y_train = y[:train_split]\n",
    "y_test = y[train_split:]"
   ]
  },
  {
   "cell_type": "code",
   "execution_count": 7,
   "metadata": {},
   "outputs": [],
   "source": [
    "# membuat model regresi linear\n",
    "class XORModel(nn.Module):\n",
    "    def __init__(self):\n",
    "        super().__init__()\n",
    "        self.linear = nn.Linear(2, 2)\n",
    "        self.sigmoid = nn.Sigmoid()\n",
    "        self.linear2 = nn.Linear(2, 1)\n",
    "        self.sigmoid2 = nn.Sigmoid()\n",
    "        \n",
    "\n",
    "    def forward(self, x):\n",
    "        x = x.float()\n",
    "        x = self.linear(x)\n",
    "        x = self.sigmoid(x)\n",
    "        x = self.linear2(x)\n",
    "        x = self.sigmoid2(x)\n",
    "        return x"
   ]
  },
  {
   "cell_type": "code",
   "execution_count": 8,
   "metadata": {},
   "outputs": [
    {
     "name": "stdout",
     "output_type": "stream",
     "text": [
      "OrderedDict([('linear.weight', tensor([[-0.2457,  0.6129],\n",
      "        [ 0.5071,  0.1579]])), ('linear.bias', tensor([-0.2959,  0.6638])), ('linear2.weight', tensor([[0.3175, 0.3664]])), ('linear2.bias', tensor([0.1200]))])\n"
     ]
    }
   ],
   "source": [
    "# create instance\n",
    "model = XORModel()\n",
    "\n",
    "# check state_dict\n",
    "print(model.state_dict())"
   ]
  },
  {
   "cell_type": "code",
   "execution_count": 9,
   "metadata": {},
   "outputs": [
    {
     "name": "stdout",
     "output_type": "stream",
     "text": [
      "Input:\n",
      "tensor([[1, 1],\n",
      "        [1, 0],\n",
      "        [0, 1],\n",
      "        [1, 1],\n",
      "        [1, 1],\n",
      "        [0, 1],\n",
      "        [0, 0],\n",
      "        [0, 0],\n",
      "        [1, 1],\n",
      "        [0, 0]])\n",
      "Hasil prediksi:\n",
      "tensor([[0.6397],\n",
      "        [0.6263],\n",
      "        [0.6360],\n",
      "        [0.6397],\n",
      "        [0.6397],\n",
      "        [0.6360],\n",
      "        [0.6218],\n",
      "        [0.6218],\n",
      "        [0.6397],\n",
      "        [0.6218]], grad_fn=<SigmoidBackward0>)\n",
      "Ground-truth:\n",
      "tensor([0, 1, 1, 0, 0, 1, 0, 0, 0, 0])\n"
     ]
    }
   ],
   "source": [
    "# mencoba inferensi dengan input x\n",
    "y_pred = model(x_test)\n",
    "print(f\"Input:\\n{x_test}\")\n",
    "print(f\"Hasil prediksi:\\n{y_pred}\")\n",
    "print(f\"Ground-truth:\\n{y_test}\")"
   ]
  },
  {
   "cell_type": "code",
   "execution_count": 10,
   "metadata": {},
   "outputs": [],
   "source": [
    "# mendefinisikan loss function\n",
    "loss_fn = nn.MSELoss()\n",
    "\n",
    "# optimizer\n",
    "optimizer = torch.optim.SGD(model.parameters(), lr=0.1, momentum=0.9)\n",
    "\n",
    "# epoch\n",
    "epochs = 5000"
   ]
  },
  {
   "cell_type": "code",
   "execution_count": 11,
   "metadata": {},
   "outputs": [
    {
     "name": "stdout",
     "output_type": "stream",
     "text": [
      "Epoch: 200, Loss: 0.247, Test Loss: 0.259\n",
      "Epoch: 400, Loss: 0.239, Test Loss: 0.246\n",
      "Epoch: 600, Loss: 0.193, Test Loss: 0.176\n",
      "Epoch: 800, Loss: 0.160, Test Loss: 0.141\n",
      "Epoch: 1000, Loss: 0.139, Test Loss: 0.136\n",
      "Epoch: 1200, Loss: 0.098, Test Loss: 0.095\n",
      "Epoch: 1400, Loss: 0.016, Test Loss: 0.016\n",
      "Epoch: 1600, Loss: 0.008, Test Loss: 0.008\n",
      "Epoch: 1800, Loss: 0.005, Test Loss: 0.005\n",
      "Epoch: 2000, Loss: 0.004, Test Loss: 0.004\n",
      "Epoch: 2200, Loss: 0.003, Test Loss: 0.003\n",
      "Epoch: 2400, Loss: 0.002, Test Loss: 0.003\n",
      "Epoch: 2600, Loss: 0.002, Test Loss: 0.002\n",
      "Epoch: 2800, Loss: 0.002, Test Loss: 0.002\n",
      "Epoch: 3000, Loss: 0.002, Test Loss: 0.002\n",
      "Epoch: 3200, Loss: 0.001, Test Loss: 0.001\n",
      "Epoch: 3400, Loss: 0.001, Test Loss: 0.001\n",
      "Epoch: 3600, Loss: 0.001, Test Loss: 0.001\n",
      "Epoch: 3800, Loss: 0.001, Test Loss: 0.001\n",
      "Epoch: 4000, Loss: 0.001, Test Loss: 0.001\n",
      "Epoch: 4200, Loss: 0.001, Test Loss: 0.001\n",
      "Epoch: 4400, Loss: 0.001, Test Loss: 0.001\n",
      "Epoch: 4600, Loss: 0.001, Test Loss: 0.001\n",
      "Epoch: 4800, Loss: 0.001, Test Loss: 0.001\n",
      "Epoch: 5000, Loss: 0.001, Test Loss: 0.001\n"
     ]
    }
   ],
   "source": [
    "# training loop\n",
    "for epoch in range(epochs):\n",
    "    # training\n",
    "    y_pred = model(x_train)\n",
    "    y_train = y_train.float()\n",
    "    loss = loss_fn(y_pred, y_train.unsqueeze(1))\n",
    "\n",
    "    # backward\n",
    "    optimizer.zero_grad()\n",
    "    \n",
    "    loss.backward()\n",
    "    \n",
    "    \n",
    "    optimizer.step()\n",
    "    \n",
    "    # testing\n",
    "    with torch.no_grad():\n",
    "        y_test_pred = model(x_test)\n",
    "        y_test = y_test.float()\n",
    "        test_loss = loss_fn(y_test_pred, y_test.unsqueeze(1))\n",
    "\n",
    "    # print loss only 3 digit after comma. Log every 500 epoch\n",
    "    if (epoch+1) % 200 == 0:\n",
    "        print(f\"Epoch: {epoch+1}, Loss: {loss.item():.3f}, Test Loss: {test_loss.item():.3f}\")"
   ]
  },
  {
   "cell_type": "code",
   "execution_count": 12,
   "metadata": {},
   "outputs": [
    {
     "name": "stdout",
     "output_type": "stream",
     "text": [
      "Input:\n",
      "tensor([[1, 0]])\n",
      "Hasil prediksi:\n",
      "tensor([[0.9724]], grad_fn=<SigmoidBackward0>)\n",
      "Ground-truth:\n",
      "tensor([1])\n"
     ]
    }
   ],
   "source": [
    "# mencoba inferensi dengan input yang diberikan pengguna\n",
    "x_user = torch.tensor([[1, 0]])\n",
    "y_truth = x_user[:, 0] ^ x_user[:, 1]\n",
    "y_pred = model(x_user)\n",
    "\n",
    "print(f\"Input:\\n{x_user}\")\n",
    "print(f\"Hasil prediksi:\\n{y_pred}\")\n",
    "print(f\"Ground-truth:\\n{y_truth}\")"
   ]
  }
 ],
 "metadata": {
  "kernelspec": {
   "display_name": "Python 3.8.15 ('py38belajarpt')",
   "language": "python",
   "name": "python3"
  },
  "language_info": {
   "codemirror_mode": {
    "name": "ipython",
    "version": 3
   },
   "file_extension": ".py",
   "mimetype": "text/x-python",
   "name": "python",
   "nbconvert_exporter": "python",
   "pygments_lexer": "ipython3",
   "version": "3.8.15"
  },
  "orig_nbformat": 4,
  "vscode": {
   "interpreter": {
    "hash": "70e73a41c653c3ff2c4eb4196dfcfae1e64ffcb4fa97f2ff95a868530ad91676"
   }
  }
 },
 "nbformat": 4,
 "nbformat_minor": 2
}
